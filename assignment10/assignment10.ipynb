{
 "cells": [
  {
   "cell_type": "markdown",
   "id": "postal-grade",
   "metadata": {},
   "source": [
    "## Assignment 10\n",
    "#### By Osmond Oke"
   ]
  },
  {
   "cell_type": "markdown",
   "id": "minute-performance",
   "metadata": {},
   "source": [
    "#### Task: In the first part of the assignment, you will implement basic text-preprocessing functions in Python. These functions do not need to scale to large text documents and will only need to handle small inputs."
   ]
  },
  {
   "cell_type": "markdown",
   "id": "atmospheric-victory",
   "metadata": {},
   "source": [
    "### 10.1a\n",
    "##### In the first part of the assignment, you will implement basic text-preprocessing functions in Python. These functions do not need to scale to large text documents and will only need to handle small inputs."
   ]
  },
  {
   "cell_type": "code",
   "execution_count": 1,
   "id": "literary-thought",
   "metadata": {},
   "outputs": [],
   "source": [
    "import keras"
   ]
  },
  {
   "cell_type": "code",
   "execution_count": 2,
   "id": "sharing-aaron",
   "metadata": {},
   "outputs": [],
   "source": [
    "def tokenize(sentence):\n",
    "    tokens = keras.preprocessing.text.text_to_word_sequence(sentence)\n",
    "    return(tokens)"
   ]
  },
  {
   "cell_type": "code",
   "execution_count": 3,
   "id": "thermal-mobile",
   "metadata": {},
   "outputs": [
    {
     "data": {
      "text/plain": [
       "['my',\n",
       " 'name',\n",
       " 'is',\n",
       " 'osmond',\n",
       " 'and',\n",
       " 'you',\n",
       " 'are',\n",
       " 'watching',\n",
       " 'disney',\n",
       " 'channel',\n",
       " 'dim',\n",
       " 'dum',\n",
       " 'dee',\n",
       " 'dum']"
      ]
     },
     "execution_count": 3,
     "metadata": {},
     "output_type": "execute_result"
    }
   ],
   "source": [
    "tokens = tokenize(\"My name is Osmond and you are watching disney Channel. dim dum dee dum.\")\n",
    "tokens"
   ]
  },
  {
   "cell_type": "markdown",
   "id": "greatest-garlic",
   "metadata": {},
   "source": [
    "### 10.1b\n",
    "#### Implement an ngram function that splits tokens into N-grams."
   ]
  },
  {
   "cell_type": "code",
   "execution_count": 4,
   "id": "stuffed-segment",
   "metadata": {},
   "outputs": [],
   "source": [
    "def ngram(tokens, n):\n",
    "    ngrams = []\n",
    "    for i in range(len(tokens)-n+1):\n",
    "        ngram = ' '.join(word_list for word_list in tokens[i:i+n])\n",
    "        ngrams.append(ngram)\n",
    "    return(ngrams)"
   ]
  },
  {
   "cell_type": "code",
   "execution_count": 5,
   "id": "infinite-leave",
   "metadata": {},
   "outputs": [
    {
     "data": {
      "text/plain": [
       "['my name is osmond and you',\n",
       " 'name is osmond and you are',\n",
       " 'is osmond and you are watching',\n",
       " 'osmond and you are watching disney',\n",
       " 'and you are watching disney channel',\n",
       " 'you are watching disney channel dim',\n",
       " 'are watching disney channel dim dum',\n",
       " 'watching disney channel dim dum dee',\n",
       " 'disney channel dim dum dee dum']"
      ]
     },
     "execution_count": 5,
     "metadata": {},
     "output_type": "execute_result"
    }
   ],
   "source": [
    "ngram = ngram(tokens,6)\n",
    "ngram"
   ]
  },
  {
   "cell_type": "markdown",
   "id": "expensive-tackle",
   "metadata": {},
   "source": [
    "## 10.1c\n",
    "#### Implement an one_hot_encode function to create a vector from a numerical vector from a list of tokens"
   ]
  },
  {
   "cell_type": "code",
   "execution_count": 6,
   "id": "ahead-joseph",
   "metadata": {},
   "outputs": [],
   "source": [
    "def one_hot_encode(tokens, num_words = len(set(tokens))):\n",
    "    num_words += 1 # Add an extra column, as this method always produces an empty first column\n",
    "    tokenizer = keras.preprocessing.text.Tokenizer(num_words = num_words)\n",
    "    tokenizer.fit_on_texts(tokens)\n",
    "    sequences = tokenizer.texts_to_sequences(tokens)\n",
    "    results = tokenizer.texts_to_matrix(tokens, mode='binary')\n",
    "    results = results[:, 1:] # Remove first column, as it is always zeros\n",
    "    token_index = tokenizer.word_index\n",
    "    return(results)"
   ]
  },
  {
   "cell_type": "code",
   "execution_count": 7,
   "id": "wired-style",
   "metadata": {},
   "outputs": [
    {
     "data": {
      "text/plain": [
       "array([[0., 1., 0., 0., 0., 0., 0., 0., 0., 0., 0., 0., 0., 0., 0.],\n",
       "       [0., 0., 1., 0., 0., 0., 0., 0., 0., 0., 0., 0., 0., 0., 0.],\n",
       "       [0., 0., 0., 1., 0., 0., 0., 0., 0., 0., 0., 0., 0., 0., 0.],\n",
       "       [0., 0., 0., 0., 1., 0., 0., 0., 0., 0., 0., 0., 0., 0., 0.],\n",
       "       [0., 0., 0., 0., 0., 1., 0., 0., 0., 0., 0., 0., 0., 0., 0.],\n",
       "       [0., 0., 0., 0., 0., 0., 1., 0., 0., 0., 0., 0., 0., 0., 0.],\n",
       "       [0., 0., 0., 0., 0., 0., 0., 1., 0., 0., 0., 0., 0., 0., 0.],\n",
       "       [0., 0., 0., 0., 0., 0., 0., 0., 1., 0., 0., 0., 0., 0., 0.],\n",
       "       [0., 0., 0., 0., 0., 0., 0., 0., 0., 1., 0., 0., 0., 0., 0.],\n",
       "       [0., 0., 0., 0., 0., 0., 0., 0., 0., 0., 1., 0., 0., 0., 0.],\n",
       "       [0., 0., 0., 0., 0., 0., 0., 0., 0., 0., 0., 1., 0., 0., 0.],\n",
       "       [1., 0., 0., 0., 0., 0., 0., 0., 0., 0., 0., 0., 0., 0., 0.],\n",
       "       [0., 0., 0., 0., 0., 0., 0., 0., 0., 0., 0., 0., 1., 0., 0.],\n",
       "       [1., 0., 0., 0., 0., 0., 0., 0., 0., 0., 0., 0., 0., 0., 0.]])"
      ]
     },
     "execution_count": 7,
     "metadata": {},
     "output_type": "execute_result"
    }
   ],
   "source": [
    "one_hot_encode(tokens,15)"
   ]
  },
  {
   "cell_type": "code",
   "execution_count": 8,
   "id": "posted-junior",
   "metadata": {},
   "outputs": [
    {
     "data": {
      "text/plain": [
       "array([[0., 1., 0., 0., 0., 0., 0., 0., 0., 0., 0., 0., 0.],\n",
       "       [0., 0., 1., 0., 0., 0., 0., 0., 0., 0., 0., 0., 0.],\n",
       "       [0., 0., 0., 1., 0., 0., 0., 0., 0., 0., 0., 0., 0.],\n",
       "       [0., 0., 0., 0., 1., 0., 0., 0., 0., 0., 0., 0., 0.],\n",
       "       [0., 0., 0., 0., 0., 1., 0., 0., 0., 0., 0., 0., 0.],\n",
       "       [0., 0., 0., 0., 0., 0., 1., 0., 0., 0., 0., 0., 0.],\n",
       "       [0., 0., 0., 0., 0., 0., 0., 1., 0., 0., 0., 0., 0.],\n",
       "       [0., 0., 0., 0., 0., 0., 0., 0., 1., 0., 0., 0., 0.],\n",
       "       [0., 0., 0., 0., 0., 0., 0., 0., 0., 1., 0., 0., 0.],\n",
       "       [0., 0., 0., 0., 0., 0., 0., 0., 0., 0., 1., 0., 0.],\n",
       "       [0., 0., 0., 0., 0., 0., 0., 0., 0., 0., 0., 1., 0.],\n",
       "       [1., 0., 0., 0., 0., 0., 0., 0., 0., 0., 0., 0., 0.],\n",
       "       [0., 0., 0., 0., 0., 0., 0., 0., 0., 0., 0., 0., 1.],\n",
       "       [1., 0., 0., 0., 0., 0., 0., 0., 0., 0., 0., 0., 0.]])"
      ]
     },
     "execution_count": 8,
     "metadata": {},
     "output_type": "execute_result"
    }
   ],
   "source": [
    "one_hot_encode(tokens)"
   ]
  },
  {
   "cell_type": "markdown",
   "id": "prepared-engineer",
   "metadata": {},
   "source": [
    "## 10.2\n",
    "#### Using listings 6.16, 6.17, and 6.18 in Deep Learning with Python as a guide, train a sequential model with embeddings on the IMDB data found in data/external/imdb/. Produce the model performance metrics and training and validation accuracy curves within the Jupyter notebook."
   ]
  },
  {
   "cell_type": "code",
   "execution_count": 9,
   "id": "similar-designation",
   "metadata": {},
   "outputs": [],
   "source": [
    "import os\n",
    "import numpy as np\n",
    "\n",
    "imdb_dir = '/home/jovyan/dsc650/data/external/imdb/aclImdb'\n",
    "train_dir = os.path.join(imdb_dir, 'train')\n",
    "\n",
    "labels = []\n",
    "texts = []\n",
    "\n",
    "for label_type in ['neg', 'pos']:\n",
    "    dir_name = os.path.join(train_dir, label_type)\n",
    "    for fname in os.listdir(dir_name):\n",
    "        if fname[-4:] == '.txt':\n",
    "            f = open(os.path.join(dir_name, fname))\n",
    "            texts.append(f.read())\n",
    "            f.close()\n",
    "            if label_type == 'neg':\n",
    "                labels.append(0)\n",
    "            else:\n",
    "                labels.append(1)"
   ]
  },
  {
   "cell_type": "code",
   "execution_count": 10,
   "id": "champion-allergy",
   "metadata": {},
   "outputs": [],
   "source": [
    "max_words = 10000\n",
    "embedding_dim = 100\n",
    "maxlen = 100\n",
    "training_samples = 200\n",
    "validation_samples = 10000"
   ]
  },
  {
   "cell_type": "code",
   "execution_count": 11,
   "id": "duplicate-guard",
   "metadata": {},
   "outputs": [],
   "source": [
    "tokenizer = keras.preprocessing.text.Tokenizer(num_words=max_words)\n",
    "tokenizer.fit_on_texts(texts)\n",
    "sequences = tokenizer.texts_to_sequences(texts)\n",
    "\n",
    "data = keras.preprocessing.sequence.pad_sequences(sequences,maxlen=maxlen)\n",
    "labels = np.asarray(labels)"
   ]
  },
  {
   "cell_type": "code",
   "execution_count": 12,
   "id": "framed-preservation",
   "metadata": {},
   "outputs": [],
   "source": [
    "indices = np.arange(data.shape[0])\n",
    "np.random.shuffle(indices)\n",
    "\n",
    "data = data[indices]\n",
    "labels = labels[indices]"
   ]
  },
  {
   "cell_type": "code",
   "execution_count": 13,
   "id": "automotive-wilson",
   "metadata": {},
   "outputs": [],
   "source": [
    "x_train = data[:training_samples]\n",
    "y_train = labels[:training_samples]\n",
    "x_val = data[training_samples: training_samples + validation_samples]\n",
    "y_val = labels[training_samples: training_samples + validation_samples]"
   ]
  },
  {
   "cell_type": "code",
   "execution_count": 14,
   "id": "utility-halifax",
   "metadata": {},
   "outputs": [
    {
     "name": "stdout",
     "output_type": "stream",
     "text": [
      "Model: \"sequential\"\n",
      "_________________________________________________________________\n",
      "Layer (type)                 Output Shape              Param #   \n",
      "=================================================================\n",
      "embedding (Embedding)        (None, 100, 100)          1000000   \n",
      "_________________________________________________________________\n",
      "dense (Dense)                (None, 100, 32)           3232      \n",
      "_________________________________________________________________\n",
      "dense_1 (Dense)              (None, 100, 1)            33        \n",
      "=================================================================\n",
      "Total params: 1,003,265\n",
      "Trainable params: 1,003,265\n",
      "Non-trainable params: 0\n",
      "_________________________________________________________________\n",
      "Epoch 1/10\n",
      "7/7 [==============================] - 2s 218ms/step - loss: 0.6936 - acc: 0.4869 - val_loss: 0.6921 - val_acc: 0.5159\n",
      "Epoch 2/10\n",
      "7/7 [==============================] - 1s 153ms/step - loss: 0.6854 - acc: 0.6076 - val_loss: 0.6916 - val_acc: 0.5181\n",
      "Epoch 3/10\n",
      "7/7 [==============================] - 1s 159ms/step - loss: 0.6799 - acc: 0.6325 - val_loss: 0.6913 - val_acc: 0.5191\n",
      "Epoch 4/10\n",
      "7/7 [==============================] - 1s 148ms/step - loss: 0.6760 - acc: 0.6233 - val_loss: 0.6914 - val_acc: 0.5187\n",
      "Epoch 5/10\n",
      "7/7 [==============================] - 1s 150ms/step - loss: 0.6683 - acc: 0.6320 - val_loss: 0.6916 - val_acc: 0.5200\n",
      "Epoch 6/10\n",
      "7/7 [==============================] - 1s 150ms/step - loss: 0.6578 - acc: 0.6459 - val_loss: 0.6925 - val_acc: 0.5202\n",
      "Epoch 7/10\n",
      "7/7 [==============================] - 1s 152ms/step - loss: 0.6511 - acc: 0.6440 - val_loss: 0.6940 - val_acc: 0.5206\n",
      "Epoch 8/10\n",
      "7/7 [==============================] - 1s 148ms/step - loss: 0.6434 - acc: 0.6339 - val_loss: 0.6966 - val_acc: 0.5200\n",
      "Epoch 9/10\n",
      "7/7 [==============================] - 1s 160ms/step - loss: 0.6368 - acc: 0.6291 - val_loss: 0.7004 - val_acc: 0.5197\n",
      "Epoch 10/10\n",
      "7/7 [==============================] - 1s 156ms/step - loss: 0.6245 - acc: 0.6421 - val_loss: 0.7044 - val_acc: 0.5198\n"
     ]
    }
   ],
   "source": [
    "from keras.models import Sequential\n",
    "from keras.layers import Embedding, Flatten, Dense\n",
    "\n",
    "model = Sequential()\n",
    "model.add(Embedding(max_words, embedding_dim, input_length=maxlen))\n",
    "#model.add(Flatten())\n",
    "model.add(Dense(32, activation='relu'))\n",
    "model.add(Dense(1, activation='sigmoid'))\n",
    "model.summary()\n",
    "\n",
    "model.compile(optimizer='rmsprop',\n",
    "              loss='binary_crossentropy',\n",
    "              metrics=['acc'])\n",
    "history = model.fit(x_train, y_train,\n",
    "                    epochs=10,\n",
    "                    batch_size=32,\n",
    "                    validation_data=(x_val, y_val))"
   ]
  },
  {
   "cell_type": "code",
   "execution_count": 15,
   "id": "limiting-solid",
   "metadata": {},
   "outputs": [],
   "source": [
    "test_dir = os.path.join(imdb_dir, 'test')\n",
    "\n",
    "labels = []\n",
    "texts = []\n",
    "\n",
    "for label_type in ['neg', 'pos']:\n",
    "    dir_name = os.path.join(test_dir, label_type)\n",
    "    for fname in sorted(os.listdir(dir_name)):\n",
    "        if fname[-4:] == '.txt':\n",
    "            f = open(os.path.join(dir_name, fname))\n",
    "            texts.append(f.read())\n",
    "            f.close()\n",
    "            if label_type == 'neg':\n",
    "                labels.append(0)\n",
    "            else:\n",
    "                labels.append(1)"
   ]
  },
  {
   "cell_type": "code",
   "execution_count": 16,
   "id": "attached-lucas",
   "metadata": {},
   "outputs": [],
   "source": [
    "sequences = tokenizer.texts_to_sequences(texts)\n",
    "x_test = keras.preprocessing.sequence.pad_sequences(sequences, maxlen=maxlen)\n",
    "y_test = np.asarray(labels)"
   ]
  },
  {
   "cell_type": "code",
   "execution_count": 17,
   "id": "thick-blast",
   "metadata": {},
   "outputs": [
    {
     "name": "stdout",
     "output_type": "stream",
     "text": [
      "782/782 [==============================] - 2s 3ms/step - loss: 0.7044 - acc: 0.5211\n"
     ]
    },
    {
     "data": {
      "text/plain": [
       "[0.7043600678443909, 0.5211229920387268]"
      ]
     },
     "execution_count": 17,
     "metadata": {},
     "output_type": "execute_result"
    }
   ],
   "source": [
    "model.evaluate(x_test,y_test)"
   ]
  },
  {
   "cell_type": "code",
   "execution_count": 18,
   "id": "collect-studio",
   "metadata": {},
   "outputs": [
    {
     "data": {
      "image/png": "[encoded data removed]",
      "text/plain": [
       "<Figure size 432x288 with 1 Axes>"
      ]
     },
     "metadata": {
      "needs_background": "light"
     },
     "output_type": "display_data"
    },
    {
     "data": {
      "image/png": "[encoded data removed]",
      "text/plain": [
       "<Figure size 432x288 with 1 Axes>"
      ]
     },
     "metadata": {
      "needs_background": "light"
     },
     "output_type": "display_data"
    }
   ],
   "source": [
    "import matplotlib.pyplot as plt\n",
    "\n",
    "acc = history.history['acc']\n",
    "val_acc = history.history['val_acc']\n",
    "loss = history.history['loss']\n",
    "val_loss = history.history['val_loss']\n",
    "\n",
    "epochs = range(1, len(acc) + 1)\n",
    "\n",
    "plt.plot(epochs, acc, 'bo', label='Training acc')\n",
    "plt.plot(epochs, val_acc, 'b', label='Validation acc')\n",
    "plt.title('Training and validation accuracy')\n",
    "plt.legend()\n",
    "\n",
    "plt.figure()\n",
    "\n",
    "plt.plot(epochs, loss, 'bo', label='Training loss')\n",
    "plt.plot(epochs, val_loss, 'b', label='Validation loss')\n",
    "plt.title('Training and validation loss')\n",
    "plt.legend()\n",
    "\n",
    "plt.show()"
   ]
  },
  {
   "cell_type": "markdown",
   "id": "binding-weekend",
   "metadata": {},
   "source": [
    "## 10.3\n",
    "#### Using listing 6.27 in Deep Learning with Python as a guide, fit the same data with an LSTM layer. Produce the model performance metrics and training and validation accuracy curves within the Jupyter notebook."
   ]
  },
  {
   "cell_type": "code",
   "execution_count": 19,
   "id": "convenient-efficiency",
   "metadata": {},
   "outputs": [
    {
     "name": "stdout",
     "output_type": "stream",
     "text": [
      "Epoch 1/10\n",
      "2/2 [==============================] - 2s 490ms/step - loss: 0.6931 - acc: 0.5000 - val_loss: 0.6922 - val_acc: 0.5250\n",
      "Epoch 2/10\n",
      "2/2 [==============================] - 0s 153ms/step - loss: 0.6781 - acc: 0.8990 - val_loss: 0.6911 - val_acc: 0.5000\n",
      "Epoch 3/10\n",
      "2/2 [==============================] - 0s 129ms/step - loss: 0.6611 - acc: 0.9333 - val_loss: 0.6902 - val_acc: 0.5000\n",
      "Epoch 4/10\n",
      "2/2 [==============================] - 0s 129ms/step - loss: 0.6362 - acc: 0.9510 - val_loss: 0.6921 - val_acc: 0.4750\n",
      "Epoch 5/10\n",
      "2/2 [==============================] - 0s 136ms/step - loss: 0.5911 - acc: 0.9495 - val_loss: 0.6956 - val_acc: 0.4500\n",
      "Epoch 6/10\n",
      "2/2 [==============================] - 0s 135ms/step - loss: 0.5027 - acc: 0.9214 - val_loss: 0.6701 - val_acc: 0.6000\n",
      "Epoch 7/10\n",
      "2/2 [==============================] - 0s 130ms/step - loss: 0.4698 - acc: 0.9932 - val_loss: 0.6942 - val_acc: 0.5500\n",
      "Epoch 8/10\n",
      "2/2 [==============================] - 0s 134ms/step - loss: 0.3562 - acc: 0.9932 - val_loss: 0.8439 - val_acc: 0.4750\n",
      "Epoch 9/10\n",
      "2/2 [==============================] - 0s 125ms/step - loss: 0.3109 - acc: 0.9594 - val_loss: 0.8578 - val_acc: 0.4750\n",
      "Epoch 10/10\n",
      "2/2 [==============================] - 0s 140ms/step - loss: 0.2368 - acc: 0.9932 - val_loss: 0.7778 - val_acc: 0.6500\n"
     ]
    }
   ],
   "source": [
    "from keras.layers import LSTM\n",
    "\n",
    "model = Sequential()\n",
    "model.add(Embedding(max_words, embedding_dim, input_length=maxlen))\n",
    "model.add(LSTM(32))\n",
    "model.add(Dense(1, activation='sigmoid'))\n",
    "\n",
    "model.compile(optimizer='rmsprop',\n",
    "              loss='binary_crossentropy',\n",
    "              metrics=['acc'])\n",
    "history = model.fit(x_train, y_train,\n",
    "                    epochs=10,\n",
    "                    batch_size=128,\n",
    "                    validation_split=0.2)"
   ]
  },
  {
   "cell_type": "code",
   "execution_count": 20,
   "id": "instructional-geneva",
   "metadata": {},
   "outputs": [
    {
     "name": "stdout",
     "output_type": "stream",
     "text": [
      "782/782 [==============================] - 13s 17ms/step - loss: 0.6618 - acc: 0.6656\n"
     ]
    },
    {
     "data": {
      "text/plain": [
       "[0.6618166565895081, 0.6656399965286255]"
      ]
     },
     "execution_count": 20,
     "metadata": {},
     "output_type": "execute_result"
    }
   ],
   "source": [
    "model.evaluate(x_test,y_test)"
   ]
  },
  {
   "cell_type": "code",
   "execution_count": 21,
   "id": "effective-robertson",
   "metadata": {},
   "outputs": [
    {
     "data": {
      "image/png": "[encoded data removed]",
      "text/plain": [
       "<Figure size 432x288 with 1 Axes>"
      ]
     },
     "metadata": {
      "needs_background": "light"
     },
     "output_type": "display_data"
    },
    {
     "data": {
      "image/png": "[encoded data removed]",
      "text/plain": [
       "<Figure size 432x288 with 1 Axes>"
      ]
     },
     "metadata": {
      "needs_background": "light"
     },
     "output_type": "display_data"
    }
   ],
   "source": [
    "import matplotlib.pyplot as plt\n",
    "\n",
    "acc = history.history['acc']\n",
    "val_acc = history.history['val_acc']\n",
    "loss = history.history['loss']\n",
    "val_loss = history.history['val_loss']\n",
    "\n",
    "epochs = range(1, len(acc) + 1)\n",
    "\n",
    "plt.plot(epochs, acc, 'bo', label='Training acc')\n",
    "plt.plot(epochs, val_acc, 'b', label='Validation acc')\n",
    "plt.title('Training and validation accuracy')\n",
    "plt.legend()\n",
    "\n",
    "plt.figure()\n",
    "\n",
    "plt.plot(epochs, loss, 'bo', label='Training loss')\n",
    "plt.plot(epochs, val_loss, 'b', label='Validation loss')\n",
    "plt.title('Training and validation loss')\n",
    "plt.legend()\n",
    "\n",
    "plt.show()"
   ]
  },
  {
   "cell_type": "markdown",
   "id": "oriental-skirt",
   "metadata": {},
   "source": [
    "## 10.4\n",
    "#### Using listing 6.46 in Deep Learning with Python as a guide, fit the same data with a simple 1D convnet. Produce the model performance metrics and training and validation accuracy curves within the Jupyter notebook."
   ]
  },
  {
   "cell_type": "code",
   "execution_count": 22,
   "id": "appreciated-hunter",
   "metadata": {},
   "outputs": [
    {
     "name": "stdout",
     "output_type": "stream",
     "text": [
      "Model: \"sequential_2\"\n",
      "_________________________________________________________________\n",
      "Layer (type)                 Output Shape              Param #   \n",
      "=================================================================\n",
      "embedding_2 (Embedding)      (None, 100, 128)          1280000   \n",
      "_________________________________________________________________\n",
      "conv1d (Conv1D)              (None, 94, 32)            28704     \n",
      "_________________________________________________________________\n",
      "max_pooling1d (MaxPooling1D) (None, 18, 32)            0         \n",
      "_________________________________________________________________\n",
      "conv1d_1 (Conv1D)            (None, 12, 32)            7200      \n",
      "_________________________________________________________________\n",
      "flatten (Flatten)            (None, 384)               0         \n",
      "_________________________________________________________________\n",
      "dense_3 (Dense)              (None, 1)                 385       \n",
      "=================================================================\n",
      "Total params: 1,316,289\n",
      "Trainable params: 1,316,289\n",
      "Non-trainable params: 0\n",
      "_________________________________________________________________\n",
      "Epoch 1/100\n",
      "2/2 [==============================] - 1s 184ms/step - loss: 2.8442 - acc: 0.5000 - val_loss: 1.3016 - val_acc: 0.5750\n",
      "Epoch 2/100\n",
      "2/2 [==============================] - 0s 50ms/step - loss: 1.5348 - acc: 0.5000 - val_loss: 1.1907 - val_acc: 0.5750\n",
      "Epoch 3/100\n",
      "2/2 [==============================] - 0s 45ms/step - loss: 1.3481 - acc: 0.4974 - val_loss: 1.1453 - val_acc: 0.5750\n",
      "Epoch 4/100\n",
      "2/2 [==============================] - 0s 64ms/step - loss: 1.1951 - acc: 0.5000 - val_loss: 1.0918 - val_acc: 0.5750\n",
      "Epoch 5/100\n",
      "2/2 [==============================] - 0s 53ms/step - loss: 1.1229 - acc: 0.4948 - val_loss: 1.0656 - val_acc: 0.5750\n",
      "Epoch 6/100\n",
      "2/2 [==============================] - 0s 53ms/step - loss: 1.0808 - acc: 0.4974 - val_loss: 1.0414 - val_acc: 0.5750\n",
      "Epoch 7/100\n",
      "2/2 [==============================] - 0s 51ms/step - loss: 1.0471 - acc: 0.4948 - val_loss: 1.0195 - val_acc: 0.5750\n",
      "Epoch 8/100\n",
      "2/2 [==============================] - 0s 50ms/step - loss: 1.0010 - acc: 0.5026 - val_loss: 0.9968 - val_acc: 0.5750\n",
      "Epoch 9/100\n",
      "2/2 [==============================] - 0s 53ms/step - loss: 0.9687 - acc: 0.5000 - val_loss: 0.9749 - val_acc: 0.5750\n",
      "Epoch 10/100\n",
      "2/2 [==============================] - 0s 50ms/step - loss: 0.9341 - acc: 0.5026 - val_loss: 0.9538 - val_acc: 0.5750\n",
      "Epoch 11/100\n",
      "2/2 [==============================] - 0s 52ms/step - loss: 0.8859 - acc: 0.5104 - val_loss: 0.9312 - val_acc: 0.5750\n",
      "Epoch 12/100\n",
      "2/2 [==============================] - 0s 59ms/step - loss: 0.8692 - acc: 0.5000 - val_loss: 0.9126 - val_acc: 0.5750\n",
      "Epoch 13/100\n",
      "2/2 [==============================] - 0s 49ms/step - loss: 0.8392 - acc: 0.5026 - val_loss: 0.8937 - val_acc: 0.5750\n",
      "Epoch 14/100\n",
      "2/2 [==============================] - 0s 49ms/step - loss: 0.8260 - acc: 0.4948 - val_loss: 0.8778 - val_acc: 0.5750\n",
      "Epoch 15/100\n",
      "2/2 [==============================] - 0s 64ms/step - loss: 0.8167 - acc: 0.4870 - val_loss: 0.8652 - val_acc: 0.5750\n",
      "Epoch 16/100\n",
      "2/2 [==============================] - 0s 51ms/step - loss: 0.7788 - acc: 0.4974 - val_loss: 0.8491 - val_acc: 0.5750\n",
      "Epoch 17/100\n",
      "2/2 [==============================] - 0s 49ms/step - loss: 0.7346 - acc: 0.5130 - val_loss: 0.8301 - val_acc: 0.5750\n",
      "Epoch 18/100\n",
      "2/2 [==============================] - 0s 47ms/step - loss: 0.7397 - acc: 0.4896 - val_loss: 0.8190 - val_acc: 0.5750\n",
      "Epoch 19/100\n",
      "2/2 [==============================] - 0s 49ms/step - loss: 0.7152 - acc: 0.4948 - val_loss: 0.8067 - val_acc: 0.5750\n",
      "Epoch 20/100\n",
      "2/2 [==============================] - 0s 47ms/step - loss: 0.6965 - acc: 0.4948 - val_loss: 0.7955 - val_acc: 0.5750\n",
      "Epoch 21/100\n",
      "2/2 [==============================] - 0s 43ms/step - loss: 0.6595 - acc: 0.5104 - val_loss: 0.7804 - val_acc: 0.5750\n",
      "Epoch 22/100\n",
      "2/2 [==============================] - 0s 50ms/step - loss: 0.6564 - acc: 0.4922 - val_loss: 0.7708 - val_acc: 0.5750\n",
      "Epoch 23/100\n",
      "2/2 [==============================] - 0s 49ms/step - loss: 0.6291 - acc: 0.5052 - val_loss: 0.7591 - val_acc: 0.5750\n",
      "Epoch 24/100\n",
      "2/2 [==============================] - 0s 47ms/step - loss: 0.6044 - acc: 0.5052 - val_loss: 0.7471 - val_acc: 0.5750\n",
      "Epoch 25/100\n",
      "2/2 [==============================] - 0s 48ms/step - loss: 0.5973 - acc: 0.4974 - val_loss: 0.7386 - val_acc: 0.5750\n",
      "Epoch 26/100\n",
      "2/2 [==============================] - 0s 49ms/step - loss: 0.5796 - acc: 0.4974 - val_loss: 0.7301 - val_acc: 0.5750\n",
      "Epoch 27/100\n",
      "2/2 [==============================] - 0s 51ms/step - loss: 0.5649 - acc: 0.4964 - val_loss: 0.7235 - val_acc: 0.5750\n",
      "Epoch 28/100\n",
      "2/2 [==============================] - 0s 42ms/step - loss: 0.5496 - acc: 0.5016 - val_loss: 0.7165 - val_acc: 0.5750\n",
      "Epoch 29/100\n",
      "2/2 [==============================] - 0s 60ms/step - loss: 0.5293 - acc: 0.5203 - val_loss: 0.7079 - val_acc: 0.5750\n",
      "Epoch 30/100\n",
      "2/2 [==============================] - 0s 51ms/step - loss: 0.5218 - acc: 0.5427 - val_loss: 0.7035 - val_acc: 0.5750\n",
      "Epoch 31/100\n",
      "2/2 [==============================] - 0s 48ms/step - loss: 0.5117 - acc: 0.6010 - val_loss: 0.7003 - val_acc: 0.5750\n",
      "Epoch 32/100\n",
      "2/2 [==============================] - 0s 52ms/step - loss: 0.4877 - acc: 0.6615 - val_loss: 0.6926 - val_acc: 0.5750\n",
      "Epoch 33/100\n",
      "2/2 [==============================] - 0s 48ms/step - loss: 0.4756 - acc: 0.7161 - val_loss: 0.6875 - val_acc: 0.5750\n",
      "Epoch 34/100\n",
      "2/2 [==============================] - 0s 45ms/step - loss: 0.4640 - acc: 0.8083 - val_loss: 0.6845 - val_acc: 0.5750\n",
      "Epoch 35/100\n",
      "2/2 [==============================] - 0s 47ms/step - loss: 0.4503 - acc: 0.8411 - val_loss: 0.6816 - val_acc: 0.5750\n",
      "Epoch 36/100\n",
      "2/2 [==============================] - 0s 45ms/step - loss: 0.4382 - acc: 0.8833 - val_loss: 0.6784 - val_acc: 0.5750\n",
      "Epoch 37/100\n",
      "2/2 [==============================] - 0s 60ms/step - loss: 0.4259 - acc: 0.9214 - val_loss: 0.6758 - val_acc: 0.5750\n",
      "Epoch 38/100\n",
      "2/2 [==============================] - 0s 49ms/step - loss: 0.4075 - acc: 0.9536 - val_loss: 0.6723 - val_acc: 0.5750\n",
      "Epoch 39/100\n",
      "2/2 [==============================] - 0s 52ms/step - loss: 0.4000 - acc: 0.9552 - val_loss: 0.6704 - val_acc: 0.5750\n",
      "Epoch 40/100\n",
      "2/2 [==============================] - 0s 59ms/step - loss: 0.3855 - acc: 0.9646 - val_loss: 0.6682 - val_acc: 0.5750\n",
      "Epoch 41/100\n",
      "2/2 [==============================] - 0s 49ms/step - loss: 0.3749 - acc: 0.9688 - val_loss: 0.6670 - val_acc: 0.5750\n",
      "Epoch 42/100\n",
      "2/2 [==============================] - 0s 45ms/step - loss: 0.3642 - acc: 0.9797 - val_loss: 0.6664 - val_acc: 0.5750\n",
      "Epoch 43/100\n",
      "2/2 [==============================] - 0s 43ms/step - loss: 0.3506 - acc: 0.9797 - val_loss: 0.6656 - val_acc: 0.6000\n",
      "Epoch 44/100\n",
      "2/2 [==============================] - 0s 51ms/step - loss: 0.3379 - acc: 0.9849 - val_loss: 0.6652 - val_acc: 0.5750\n",
      "Epoch 45/100\n",
      "2/2 [==============================] - 0s 62ms/step - loss: 0.3287 - acc: 0.9797 - val_loss: 0.6644 - val_acc: 0.5750\n",
      "Epoch 46/100\n",
      "2/2 [==============================] - 0s 50ms/step - loss: 0.3177 - acc: 0.9797 - val_loss: 0.6632 - val_acc: 0.6000\n",
      "Epoch 47/100\n",
      "2/2 [==============================] - 0s 47ms/step - loss: 0.3056 - acc: 0.9823 - val_loss: 0.6630 - val_acc: 0.5750\n",
      "Epoch 48/100\n",
      "2/2 [==============================] - 0s 85ms/step - loss: 0.2936 - acc: 0.9849 - val_loss: 0.6628 - val_acc: 0.6250\n",
      "Epoch 49/100\n",
      "2/2 [==============================] - 0s 48ms/step - loss: 0.2833 - acc: 0.9865 - val_loss: 0.6622 - val_acc: 0.6250\n",
      "Epoch 50/100\n",
      "2/2 [==============================] - 0s 42ms/step - loss: 0.2722 - acc: 0.9865 - val_loss: 0.6617 - val_acc: 0.6250\n",
      "Epoch 51/100\n",
      "2/2 [==============================] - 0s 49ms/step - loss: 0.2582 - acc: 0.9891 - val_loss: 0.6610 - val_acc: 0.6500\n",
      "Epoch 52/100\n",
      "2/2 [==============================] - 0s 50ms/step - loss: 0.2485 - acc: 0.9865 - val_loss: 0.6618 - val_acc: 0.6750\n",
      "Epoch 53/100\n",
      "2/2 [==============================] - 0s 48ms/step - loss: 0.2350 - acc: 0.9917 - val_loss: 0.6634 - val_acc: 0.6500\n",
      "Epoch 54/100\n",
      "2/2 [==============================] - 0s 44ms/step - loss: 0.2241 - acc: 0.9891 - val_loss: 0.6642 - val_acc: 0.7250\n",
      "Epoch 55/100\n",
      "2/2 [==============================] - 0s 50ms/step - loss: 0.2118 - acc: 0.9958 - val_loss: 0.6624 - val_acc: 0.6500\n",
      "Epoch 56/100\n",
      "2/2 [==============================] - 0s 61ms/step - loss: 0.2000 - acc: 1.0000 - val_loss: 0.6619 - val_acc: 0.6500\n",
      "Epoch 57/100\n",
      "2/2 [==============================] - 0s 50ms/step - loss: 0.1900 - acc: 0.9932 - val_loss: 0.6602 - val_acc: 0.6500\n",
      "Epoch 58/100\n",
      "2/2 [==============================] - 0s 50ms/step - loss: 0.1789 - acc: 0.9932 - val_loss: 0.6629 - val_acc: 0.7000\n",
      "Epoch 59/100\n",
      "2/2 [==============================] - 0s 48ms/step - loss: 0.1649 - acc: 0.9932 - val_loss: 0.6661 - val_acc: 0.6500\n",
      "Epoch 60/100\n",
      "2/2 [==============================] - 0s 46ms/step - loss: 0.1568 - acc: 1.0000 - val_loss: 0.6662 - val_acc: 0.6500\n",
      "Epoch 61/100\n",
      "2/2 [==============================] - 0s 49ms/step - loss: 0.1448 - acc: 1.0000 - val_loss: 0.6619 - val_acc: 0.6750\n",
      "Epoch 62/100\n",
      "2/2 [==============================] - 0s 48ms/step - loss: 0.1323 - acc: 1.0000 - val_loss: 0.6581 - val_acc: 0.7000\n",
      "Epoch 63/100\n",
      "2/2 [==============================] - 0s 51ms/step - loss: 0.1213 - acc: 1.0000 - val_loss: 0.6596 - val_acc: 0.7000\n",
      "Epoch 64/100\n",
      "2/2 [==============================] - 0s 50ms/step - loss: 0.1108 - acc: 1.0000 - val_loss: 0.6595 - val_acc: 0.7250\n",
      "Epoch 65/100\n",
      "2/2 [==============================] - 0s 49ms/step - loss: 0.1026 - acc: 1.0000 - val_loss: 0.6597 - val_acc: 0.7000\n",
      "Epoch 66/100\n",
      "2/2 [==============================] - 0s 42ms/step - loss: 0.0917 - acc: 1.0000 - val_loss: 0.6577 - val_acc: 0.7000\n",
      "Epoch 67/100\n",
      "2/2 [==============================] - 0s 47ms/step - loss: 0.0834 - acc: 1.0000 - val_loss: 0.6547 - val_acc: 0.6250\n",
      "Epoch 68/100\n",
      "2/2 [==============================] - 0s 49ms/step - loss: 0.0763 - acc: 0.9932 - val_loss: 0.6569 - val_acc: 0.7000\n",
      "Epoch 69/100\n",
      "2/2 [==============================] - 0s 48ms/step - loss: 0.0680 - acc: 1.0000 - val_loss: 0.6563 - val_acc: 0.7000\n",
      "Epoch 70/100\n",
      "2/2 [==============================] - 0s 47ms/step - loss: 0.0606 - acc: 1.0000 - val_loss: 0.6560 - val_acc: 0.7000\n",
      "Epoch 71/100\n",
      "2/2 [==============================] - 0s 44ms/step - loss: 0.0550 - acc: 1.0000 - val_loss: 0.6543 - val_acc: 0.6750\n",
      "Epoch 72/100\n",
      "2/2 [==============================] - 0s 51ms/step - loss: 0.0500 - acc: 1.0000 - val_loss: 0.6569 - val_acc: 0.7000\n",
      "Epoch 73/100\n",
      "2/2 [==============================] - 0s 51ms/step - loss: 0.0452 - acc: 1.0000 - val_loss: 0.6560 - val_acc: 0.7000\n",
      "Epoch 74/100\n",
      "2/2 [==============================] - 0s 49ms/step - loss: 0.0391 - acc: 1.0000 - val_loss: 0.6539 - val_acc: 0.6750\n",
      "Epoch 75/100\n",
      "2/2 [==============================] - 0s 50ms/step - loss: 0.0365 - acc: 1.0000 - val_loss: 0.6546 - val_acc: 0.7000\n",
      "Epoch 76/100\n",
      "2/2 [==============================] - 0s 48ms/step - loss: 0.0335 - acc: 1.0000 - val_loss: 0.6535 - val_acc: 0.6750\n",
      "Epoch 77/100\n",
      "2/2 [==============================] - 0s 54ms/step - loss: 0.0290 - acc: 1.0000 - val_loss: 0.6556 - val_acc: 0.6750\n",
      "Epoch 78/100\n",
      "2/2 [==============================] - 0s 53ms/step - loss: 0.0279 - acc: 1.0000 - val_loss: 0.6531 - val_acc: 0.6750\n",
      "Epoch 79/100\n",
      "2/2 [==============================] - 0s 65ms/step - loss: 0.0222 - acc: 1.0000 - val_loss: 0.6538 - val_acc: 0.7000\n",
      "Epoch 80/100\n",
      "2/2 [==============================] - 0s 53ms/step - loss: 0.0227 - acc: 1.0000 - val_loss: 0.6529 - val_acc: 0.6500\n",
      "Epoch 81/100\n",
      "2/2 [==============================] - 0s 49ms/step - loss: 0.0228 - acc: 1.0000 - val_loss: 0.6543 - val_acc: 0.6750\n",
      "Epoch 82/100\n",
      "2/2 [==============================] - 0s 49ms/step - loss: 0.0191 - acc: 1.0000 - val_loss: 0.6531 - val_acc: 0.6500\n",
      "Epoch 83/100\n",
      "2/2 [==============================] - 0s 49ms/step - loss: 0.0206 - acc: 1.0000 - val_loss: 0.6550 - val_acc: 0.6500\n",
      "Epoch 84/100\n",
      "2/2 [==============================] - 0s 59ms/step - loss: 0.0197 - acc: 1.0000 - val_loss: 0.6543 - val_acc: 0.7000\n",
      "Epoch 85/100\n",
      "2/2 [==============================] - 0s 50ms/step - loss: 0.0172 - acc: 1.0000 - val_loss: 0.6531 - val_acc: 0.6500\n",
      "Epoch 86/100\n",
      "2/2 [==============================] - 0s 52ms/step - loss: 0.0179 - acc: 1.0000 - val_loss: 0.6560 - val_acc: 0.6750\n",
      "Epoch 87/100\n",
      "2/2 [==============================] - 0s 44ms/step - loss: 0.0138 - acc: 1.0000 - val_loss: 0.6563 - val_acc: 0.6750\n",
      "Epoch 88/100\n",
      "2/2 [==============================] - 0s 52ms/step - loss: 0.0137 - acc: 1.0000 - val_loss: 0.6552 - val_acc: 0.6750\n",
      "Epoch 89/100\n",
      "2/2 [==============================] - 0s 49ms/step - loss: 0.0150 - acc: 1.0000 - val_loss: 0.6566 - val_acc: 0.6250\n",
      "Epoch 90/100\n",
      "2/2 [==============================] - 0s 47ms/step - loss: 0.0134 - acc: 1.0000 - val_loss: 0.6531 - val_acc: 0.6500\n",
      "Epoch 91/100\n",
      "2/2 [==============================] - 0s 52ms/step - loss: 0.0141 - acc: 1.0000 - val_loss: 0.6526 - val_acc: 0.6500\n",
      "Epoch 92/100\n",
      "2/2 [==============================] - 0s 50ms/step - loss: 0.0130 - acc: 1.0000 - val_loss: 0.6527 - val_acc: 0.6500\n",
      "Epoch 93/100\n",
      "2/2 [==============================] - 0s 41ms/step - loss: 0.0121 - acc: 1.0000 - val_loss: 0.6546 - val_acc: 0.7000\n",
      "Epoch 94/100\n",
      "2/2 [==============================] - 0s 49ms/step - loss: 0.0103 - acc: 1.0000 - val_loss: 0.6531 - val_acc: 0.6500\n",
      "Epoch 95/100\n",
      "2/2 [==============================] - 0s 50ms/step - loss: 0.0108 - acc: 1.0000 - val_loss: 0.6517 - val_acc: 0.6500\n",
      "Epoch 96/100\n",
      "2/2 [==============================] - 0s 44ms/step - loss: 0.0117 - acc: 1.0000 - val_loss: 0.6539 - val_acc: 0.7000\n",
      "Epoch 97/100\n",
      "2/2 [==============================] - 0s 52ms/step - loss: 0.0099 - acc: 1.0000 - val_loss: 0.6560 - val_acc: 0.6000\n",
      "Epoch 98/100\n",
      "2/2 [==============================] - 0s 49ms/step - loss: 0.0094 - acc: 1.0000 - val_loss: 0.6542 - val_acc: 0.6750\n",
      "Epoch 99/100\n",
      "2/2 [==============================] - 0s 51ms/step - loss: 0.0084 - acc: 1.0000 - val_loss: 0.6565 - val_acc: 0.6250\n",
      "Epoch 100/100\n",
      "2/2 [==============================] - 0s 47ms/step - loss: 0.0072 - acc: 1.0000 - val_loss: 0.6505 - val_acc: 0.6500\n"
     ]
    }
   ],
   "source": [
    "from keras.models import Sequential\n",
    "from keras import layers\n",
    "from keras.optimizers import RMSprop\n",
    "\n",
    "max_features = 10000\n",
    "max_len = 100\n",
    "\n",
    "model = Sequential()\n",
    "model.add(layers.Embedding(max_features, 128, input_length=max_len))\n",
    "model.add(layers.Conv1D(32, 7, activation='relu'))\n",
    "model.add(layers.MaxPooling1D(5))\n",
    "model.add(layers.Conv1D(32, 7, activation='relu'))\n",
    "model.add(layers.Flatten())\n",
    "model.add(layers.Dense(1))\n",
    "\n",
    "model.summary()\n",
    "\n",
    "model.compile(optimizer=RMSprop(lr=1e-4),\n",
    "              loss='binary_crossentropy',\n",
    "              metrics=['acc'])\n",
    "history = model.fit(x_train, y_train,\n",
    "                    epochs=100,\n",
    "                    batch_size=128,\n",
    "                    validation_split=0.2)"
   ]
  },
  {
   "cell_type": "code",
   "execution_count": 23,
   "id": "continued-rocket",
   "metadata": {},
   "outputs": [
    {
     "data": {
      "image/png": "[encoded data removed]",
      "text/plain": [
       "<Figure size 432x288 with 1 Axes>"
      ]
     },
     "metadata": {
      "needs_background": "light"
     },
     "output_type": "display_data"
    },
    {
     "data": {
      "image/png": "[encoded data removed]",
      "text/plain": [
       "<Figure size 432x288 with 1 Axes>"
      ]
     },
     "metadata": {
      "needs_background": "light"
     },
     "output_type": "display_data"
    }
   ],
   "source": [
    "import matplotlib.pyplot as plt\n",
    "\n",
    "acc = history.history['acc']\n",
    "val_acc = history.history['val_acc']\n",
    "loss = history.history['loss']\n",
    "val_loss = history.history['val_loss']\n",
    "\n",
    "epochs = range(1, len(acc) + 1)\n",
    "\n",
    "plt.plot(epochs, acc, 'bo', label='Training acc')\n",
    "plt.plot(epochs, val_acc, 'b', label='Validation acc')\n",
    "plt.title('Training and validation accuracy')\n",
    "plt.legend()\n",
    "\n",
    "plt.figure()\n",
    "\n",
    "plt.plot(epochs, loss, 'bo', label='Training loss')\n",
    "plt.plot(epochs, val_loss, 'b', label='Validation loss')\n",
    "plt.title('Training and validation loss')\n",
    "plt.legend()\n",
    "\n",
    "plt.show()"
   ]
  },
  {
   "cell_type": "code",
   "execution_count": null,
   "id": "fourth-optimum",
   "metadata": {},
   "outputs": [],
   "source": []
  }
 ],
 "metadata": {
  "kernelspec": {
   "display_name": "Python 3",
   "language": "python",
   "name": "python3"
  },
  "language_info": {
   "codemirror_mode": {
    "name": "ipython",
    "version": 3
   },
   "file_extension": ".py",
   "mimetype": "text/x-python",
   "name": "python",
   "nbconvert_exporter": "python",
   "pygments_lexer": "ipython3",
   "version": "3.8.8"
  }
 },
 "nbformat": 4,
 "nbformat_minor": 5
}
