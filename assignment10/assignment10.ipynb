{
 "cells": [
  {
   "cell_type": "markdown",
   "id": "posted-nylon",
   "metadata": {},
   "source": [
    "## Assignment 10\n",
    "#### By Osmond Oke"
   ]
  },
  {
   "cell_type": "markdown",
   "id": "pursuant-webster",
   "metadata": {},
   "source": [
    "#### Task: In the first part of the assignment, you will implement basic text-preprocessing functions in Python. These functions do not need to scale to large text documents and will only need to handle small inputs."
   ]
  },
  {
   "cell_type": "markdown",
   "id": "posted-socket",
   "metadata": {},
   "source": [
    "### 10.1a\n",
    "##### In the first part of the assignment, you will implement basic text-preprocessing functions in Python. These functions do not need to scale to large text documents and will only need to handle small inputs."
   ]
  },
  {
   "cell_type": "code",
   "execution_count": 1,
   "id": "pending-wright",
   "metadata": {},
   "outputs": [],
   "source": [
    "import keras"
   ]
  },
  {
   "cell_type": "code",
   "execution_count": 2,
   "id": "activated-style",
   "metadata": {},
   "outputs": [],
   "source": [
    "def tokenize(sentence):\n",
    "    tokens = keras.preprocessing.text.text_to_word_sequence(sentence)\n",
    "    return(tokens)"
   ]
  },
  {
   "cell_type": "code",
   "execution_count": 3,
   "id": "integral-mistake",
   "metadata": {},
   "outputs": [
    {
     "data": {
      "text/plain": [
       "['the', 'quick', 'brown', 'fox', 'jumped', 'over', 'the', 'lazy', 'dog']"
      ]
     },
     "execution_count": 3,
     "metadata": {},
     "output_type": "execute_result"
    }
   ],
   "source": [
    "tokens = tokenize(\"The quick brown fox jumped over the lazy dog.\")\n",
    "tokens"
   ]
  },
  {
   "cell_type": "markdown",
   "id": "aware-utilization",
   "metadata": {},
   "source": [
    "### 10.1b\n",
    "#### Implement an ngram function that splits tokens into N-grams."
   ]
  },
  {
   "cell_type": "code",
   "execution_count": 4,
   "id": "chronic-glass",
   "metadata": {},
   "outputs": [],
   "source": [
    "def ngram(tokens, n):\n",
    "    ngrams = []\n",
    "    for i in range(len(tokens)-n+1):\n",
    "        ngram = ' '.join(word_list for word_list in tokens[i:i+n])\n",
    "        ngrams.append(ngram)\n",
    "    return(ngrams)"
   ]
  },
  {
   "cell_type": "code",
   "execution_count": 5,
   "id": "interior-arbitration",
   "metadata": {},
   "outputs": [
    {
     "data": {
      "text/plain": [
       "['the quick brown fox',\n",
       " 'quick brown fox jumped',\n",
       " 'brown fox jumped over',\n",
       " 'fox jumped over the',\n",
       " 'jumped over the lazy',\n",
       " 'over the lazy dog']"
      ]
     },
     "execution_count": 5,
     "metadata": {},
     "output_type": "execute_result"
    }
   ],
   "source": [
    "ngram = ngram(tokens,4)\n",
    "ngram"
   ]
  },
  {
   "cell_type": "markdown",
   "id": "turkish-representative",
   "metadata": {},
   "source": [
    "## 10.1c\n",
    "#### Implement an one_hot_encode function to create a vector from a numerical vector from a list of tokens"
   ]
  },
  {
   "cell_type": "code",
   "execution_count": 6,
   "id": "afraid-india",
   "metadata": {},
   "outputs": [],
   "source": [
    "def one_hot_encode(tokens, num_words = len(set(tokens))):\n",
    "    num_words += 1 # Add an extra column, as this method always produces an empty first column\n",
    "    tokenizer = keras.preprocessing.text.Tokenizer(num_words = num_words)\n",
    "    tokenizer.fit_on_texts(tokens)\n",
    "    sequences = tokenizer.texts_to_sequences(tokens)\n",
    "    results = tokenizer.texts_to_matrix(tokens, mode='binary')\n",
    "    results = results[:, 1:] # Remove first column, as it is always zeros\n",
    "    token_index = tokenizer.word_index\n",
    "    return(results)"
   ]
  },
  {
   "cell_type": "code",
   "execution_count": 7,
   "id": "capital-robert",
   "metadata": {},
   "outputs": [
    {
     "data": {
      "text/plain": [
       "array([[1., 0., 0., 0., 0., 0., 0., 0., 0., 0., 0., 0., 0., 0., 0.],\n",
       "       [0., 1., 0., 0., 0., 0., 0., 0., 0., 0., 0., 0., 0., 0., 0.],\n",
       "       [0., 0., 1., 0., 0., 0., 0., 0., 0., 0., 0., 0., 0., 0., 0.],\n",
       "       [0., 0., 0., 1., 0., 0., 0., 0., 0., 0., 0., 0., 0., 0., 0.],\n",
       "       [0., 0., 0., 0., 1., 0., 0., 0., 0., 0., 0., 0., 0., 0., 0.],\n",
       "       [0., 0., 0., 0., 0., 1., 0., 0., 0., 0., 0., 0., 0., 0., 0.],\n",
       "       [1., 0., 0., 0., 0., 0., 0., 0., 0., 0., 0., 0., 0., 0., 0.],\n",
       "       [0., 0., 0., 0., 0., 0., 1., 0., 0., 0., 0., 0., 0., 0., 0.],\n",
       "       [0., 0., 0., 0., 0., 0., 0., 1., 0., 0., 0., 0., 0., 0., 0.]])"
      ]
     },
     "execution_count": 7,
     "metadata": {},
     "output_type": "execute_result"
    }
   ],
   "source": [
    "one_hot_encode(tokens,15)"
   ]
  },
  {
   "cell_type": "code",
   "execution_count": 8,
   "id": "existing-fitness",
   "metadata": {},
   "outputs": [
    {
     "data": {
      "text/plain": [
       "array([[1., 0., 0., 0., 0., 0., 0., 0.],\n",
       "       [0., 1., 0., 0., 0., 0., 0., 0.],\n",
       "       [0., 0., 1., 0., 0., 0., 0., 0.],\n",
       "       [0., 0., 0., 1., 0., 0., 0., 0.],\n",
       "       [0., 0., 0., 0., 1., 0., 0., 0.],\n",
       "       [0., 0., 0., 0., 0., 1., 0., 0.],\n",
       "       [1., 0., 0., 0., 0., 0., 0., 0.],\n",
       "       [0., 0., 0., 0., 0., 0., 1., 0.],\n",
       "       [0., 0., 0., 0., 0., 0., 0., 1.]])"
      ]
     },
     "execution_count": 8,
     "metadata": {},
     "output_type": "execute_result"
    }
   ],
   "source": [
    "one_hot_encode(tokens)"
   ]
  },
  {
   "cell_type": "markdown",
   "id": "random-vermont",
   "metadata": {},
   "source": [
    "## 10.2\n",
    "#### Using listings 6.16, 6.17, and 6.18 in Deep Learning with Python as a guide, train a sequential model with embeddings on the IMDB data found in data/external/imdb/. Produce the model performance metrics and training and validation accuracy curves within the Jupyter notebook."
   ]
  },
  {
   "cell_type": "code",
   "execution_count": 9,
   "id": "celtic-median",
   "metadata": {},
   "outputs": [],
   "source": [
    "import os\n",
    "import numpy as np\n",
    "\n",
    "imdb_dir = '/home/jovyan/dsc650/data/external/imdb/aclImdb'\n",
    "train_dir = os.path.join(imdb_dir, 'train')\n",
    "\n",
    "labels = []\n",
    "texts = []\n",
    "\n",
    "for label_type in ['neg', 'pos']:\n",
    "    dir_name = os.path.join(train_dir, label_type)\n",
    "    for fname in os.listdir(dir_name):\n",
    "        if fname[-4:] == '.txt':\n",
    "            f = open(os.path.join(dir_name, fname))\n",
    "            texts.append(f.read())\n",
    "            f.close()\n",
    "            if label_type == 'neg':\n",
    "                labels.append(0)\n",
    "            else:\n",
    "                labels.append(1)"
   ]
  },
  {
   "cell_type": "code",
   "execution_count": 10,
   "id": "expensive-invitation",
   "metadata": {},
   "outputs": [],
   "source": [
    "max_words = 10000\n",
    "embedding_dim = 100\n",
    "maxlen = 100\n",
    "training_samples = 200\n",
    "validation_samples = 10000"
   ]
  },
  {
   "cell_type": "code",
   "execution_count": 11,
   "id": "statutory-harrison",
   "metadata": {},
   "outputs": [],
   "source": [
    "tokenizer = keras.preprocessing.text.Tokenizer(num_words=max_words)\n",
    "tokenizer.fit_on_texts(texts)\n",
    "sequences = tokenizer.texts_to_sequences(texts)\n",
    "\n",
    "data = keras.preprocessing.sequence.pad_sequences(sequences,maxlen=maxlen)\n",
    "labels = np.asarray(labels)"
   ]
  },
  {
   "cell_type": "code",
   "execution_count": 12,
   "id": "objective-integrity",
   "metadata": {},
   "outputs": [],
   "source": [
    "indices = np.arange(data.shape[0])\n",
    "np.random.shuffle(indices)\n",
    "\n",
    "data = data[indices]\n",
    "labels = labels[indices]"
   ]
  },
  {
   "cell_type": "code",
   "execution_count": 13,
   "id": "arbitrary-matrix",
   "metadata": {},
   "outputs": [],
   "source": [
    "x_train = data[:training_samples]\n",
    "y_train = labels[:training_samples]\n",
    "x_val = data[training_samples: training_samples + validation_samples]\n",
    "y_val = labels[training_samples: training_samples + validation_samples]"
   ]
  },
  {
   "cell_type": "code",
   "execution_count": 14,
   "id": "handled-float",
   "metadata": {},
   "outputs": [
    {
     "name": "stdout",
     "output_type": "stream",
     "text": [
      "Model: \"sequential\"\n",
      "_________________________________________________________________\n",
      "Layer (type)                 Output Shape              Param #   \n",
      "=================================================================\n",
      "embedding (Embedding)        (None, 100, 100)          1000000   \n",
      "_________________________________________________________________\n",
      "dense (Dense)                (None, 100, 32)           3232      \n",
      "_________________________________________________________________\n",
      "dense_1 (Dense)              (None, 100, 1)            33        \n",
      "=================================================================\n",
      "Total params: 1,003,265\n",
      "Trainable params: 1,003,265\n",
      "Non-trainable params: 0\n",
      "_________________________________________________________________\n",
      "Epoch 1/10\n",
      "7/7 [==============================] - 2s 214ms/step - loss: 0.6927 - acc: 0.5090 - val_loss: 0.6923 - val_acc: 0.5152\n",
      "Epoch 2/10\n",
      "7/7 [==============================] - 1s 153ms/step - loss: 0.6857 - acc: 0.5866 - val_loss: 0.6922 - val_acc: 0.5167\n",
      "Epoch 3/10\n",
      "7/7 [==============================] - 1s 159ms/step - loss: 0.6839 - acc: 0.5849 - val_loss: 0.6923 - val_acc: 0.5173\n",
      "Epoch 4/10\n",
      "7/7 [==============================] - 1s 152ms/step - loss: 0.6782 - acc: 0.6092 - val_loss: 0.6923 - val_acc: 0.5177\n",
      "Epoch 5/10\n",
      "7/7 [==============================] - 1s 154ms/step - loss: 0.6701 - acc: 0.6359 - val_loss: 0.6930 - val_acc: 0.5184\n",
      "Epoch 6/10\n",
      "7/7 [==============================] - 1s 142ms/step - loss: 0.6662 - acc: 0.6308 - val_loss: 0.6943 - val_acc: 0.5187\n",
      "Epoch 7/10\n",
      "7/7 [==============================] - 1s 141ms/step - loss: 0.6520 - acc: 0.6544 - val_loss: 0.6954 - val_acc: 0.5197\n",
      "Epoch 8/10\n",
      "7/7 [==============================] - 1s 146ms/step - loss: 0.6448 - acc: 0.6528 - val_loss: 0.6979 - val_acc: 0.5203\n",
      "Epoch 9/10\n",
      "7/7 [==============================] - 1s 153ms/step - loss: 0.6404 - acc: 0.6368 - val_loss: 0.7002 - val_acc: 0.5230\n",
      "Epoch 10/10\n",
      "7/7 [==============================] - 1s 152ms/step - loss: 0.6258 - acc: 0.6554 - val_loss: 0.7046 - val_acc: 0.5208\n"
     ]
    }
   ],
   "source": [
    "from keras.models import Sequential\n",
    "from keras.layers import Embedding, Flatten, Dense\n",
    "\n",
    "model = Sequential()\n",
    "model.add(Embedding(max_words, embedding_dim, input_length=maxlen))\n",
    "#model.add(Flatten())\n",
    "model.add(Dense(32, activation='relu'))\n",
    "model.add(Dense(1, activation='sigmoid'))\n",
    "model.summary()\n",
    "\n",
    "model.compile(optimizer='rmsprop',\n",
    "              loss='binary_crossentropy',\n",
    "              metrics=['acc'])\n",
    "history = model.fit(x_train, y_train,\n",
    "                    epochs=10,\n",
    "                    batch_size=32,\n",
    "                    validation_data=(x_val, y_val))"
   ]
  },
  {
   "cell_type": "code",
   "execution_count": 15,
   "id": "revolutionary-victorian",
   "metadata": {},
   "outputs": [],
   "source": [
    "test_dir = os.path.join(imdb_dir, 'test')\n",
    "\n",
    "labels = []\n",
    "texts = []\n",
    "\n",
    "for label_type in ['neg', 'pos']:\n",
    "    dir_name = os.path.join(test_dir, label_type)\n",
    "    for fname in sorted(os.listdir(dir_name)):\n",
    "        if fname[-4:] == '.txt':\n",
    "            f = open(os.path.join(dir_name, fname))\n",
    "            texts.append(f.read())\n",
    "            f.close()\n",
    "            if label_type == 'neg':\n",
    "                labels.append(0)\n",
    "            else:\n",
    "                labels.append(1)"
   ]
  },
  {
   "cell_type": "code",
   "execution_count": 16,
   "id": "through-rubber",
   "metadata": {},
   "outputs": [],
   "source": [
    "sequences = tokenizer.texts_to_sequences(texts)\n",
    "x_test = keras.preprocessing.sequence.pad_sequences(sequences, maxlen=maxlen)\n",
    "y_test = np.asarray(labels)"
   ]
  },
  {
   "cell_type": "code",
   "execution_count": 17,
   "id": "demonstrated-cookbook",
   "metadata": {},
   "outputs": [
    {
     "name": "stdout",
     "output_type": "stream",
     "text": [
      "782/782 [==============================] - 2s 3ms/step - loss: 0.7063 - acc: 0.5175\n"
     ]
    },
    {
     "data": {
      "text/plain": [
       "[0.7062826752662659, 0.5175439715385437]"
      ]
     },
     "execution_count": 17,
     "metadata": {},
     "output_type": "execute_result"
    }
   ],
   "source": [
    "model.evaluate(x_test,y_test)"
   ]
  },
  {
   "cell_type": "code",
   "execution_count": 18,
   "id": "amended-dealing",
   "metadata": {},
   "outputs": [
    {
     "data": {
      "image/png": "[encoded data removed]",
      "text/plain": [
       "<Figure size 432x288 with 1 Axes>"
      ]
     },
     "metadata": {
      "needs_background": "light"
     },
     "output_type": "display_data"
    },
    {
     "data": {
      "image/png": "[encoded data removed]",
      "text/plain": [
       "<Figure size 432x288 with 1 Axes>"
      ]
     },
     "metadata": {
      "needs_background": "light"
     },
     "output_type": "display_data"
    }
   ],
   "source": [
    "import matplotlib.pyplot as plt\n",
    "\n",
    "acc = history.history['acc']\n",
    "val_acc = history.history['val_acc']\n",
    "loss = history.history['loss']\n",
    "val_loss = history.history['val_loss']\n",
    "\n",
    "epochs = range(1, len(acc) + 1)\n",
    "\n",
    "plt.plot(epochs, acc, 'bo', label='Training acc')\n",
    "plt.plot(epochs, val_acc, 'b', label='Validation acc')\n",
    "plt.title('Training and validation accuracy')\n",
    "plt.legend()\n",
    "\n",
    "plt.figure()\n",
    "\n",
    "plt.plot(epochs, loss, 'bo', label='Training loss')\n",
    "plt.plot(epochs, val_loss, 'b', label='Validation loss')\n",
    "plt.title('Training and validation loss')\n",
    "plt.legend()\n",
    "\n",
    "plt.show()"
   ]
  },
  {
   "cell_type": "markdown",
   "id": "defined-closer",
   "metadata": {},
   "source": [
    "## 10.3\n",
    "#### Using listing 6.27 in Deep Learning with Python as a guide, fit the same data with an LSTM layer. Produce the model performance metrics and training and validation accuracy curves within the Jupyter notebook."
   ]
  },
  {
   "cell_type": "code",
   "execution_count": 19,
   "id": "appropriate-macintosh",
   "metadata": {},
   "outputs": [
    {
     "name": "stdout",
     "output_type": "stream",
     "text": [
      "Epoch 1/10\n",
      "2/2 [==============================] - 2s 543ms/step - loss: 0.6938 - acc: 0.4568 - val_loss: 0.6887 - val_acc: 0.6000\n",
      "Epoch 2/10\n",
      "2/2 [==============================] - 0s 146ms/step - loss: 0.6760 - acc: 0.6911 - val_loss: 0.6855 - val_acc: 0.6000\n",
      "Epoch 3/10\n",
      "2/2 [==============================] - 0s 132ms/step - loss: 0.6525 - acc: 0.7781 - val_loss: 0.6743 - val_acc: 0.6000\n",
      "Epoch 4/10\n",
      "2/2 [==============================] - 0s 136ms/step - loss: 0.6067 - acc: 0.7146 - val_loss: 0.6711 - val_acc: 0.6000\n",
      "Epoch 5/10\n",
      "2/2 [==============================] - 0s 135ms/step - loss: 0.5074 - acc: 0.6411 - val_loss: 0.6318 - val_acc: 0.6000\n",
      "Epoch 6/10\n",
      "2/2 [==============================] - 0s 132ms/step - loss: 0.3869 - acc: 0.9276 - val_loss: 0.6488 - val_acc: 0.6500\n",
      "Epoch 7/10\n",
      "2/2 [==============================] - 0s 128ms/step - loss: 0.4105 - acc: 1.0000 - val_loss: 0.6217 - val_acc: 0.6250\n",
      "Epoch 8/10\n",
      "2/2 [==============================] - 0s 129ms/step - loss: 0.2650 - acc: 1.0000 - val_loss: 0.7394 - val_acc: 0.6500\n",
      "Epoch 9/10\n",
      "2/2 [==============================] - 0s 147ms/step - loss: 0.2369 - acc: 0.9865 - val_loss: 0.6243 - val_acc: 0.7000\n",
      "Epoch 10/10\n",
      "2/2 [==============================] - 0s 139ms/step - loss: 0.2119 - acc: 1.0000 - val_loss: 0.7174 - val_acc: 0.7000\n"
     ]
    }
   ],
   "source": [
    "from keras.layers import LSTM\n",
    "\n",
    "model = Sequential()\n",
    "model.add(Embedding(max_words, embedding_dim, input_length=maxlen))\n",
    "model.add(LSTM(32))\n",
    "model.add(Dense(1, activation='sigmoid'))\n",
    "\n",
    "model.compile(optimizer='rmsprop',\n",
    "              loss='binary_crossentropy',\n",
    "              metrics=['acc'])\n",
    "history = model.fit(x_train, y_train,\n",
    "                    epochs=10,\n",
    "                    batch_size=128,\n",
    "                    validation_split=0.2)"
   ]
  },
  {
   "cell_type": "code",
   "execution_count": 20,
   "id": "entertaining-devices",
   "metadata": {},
   "outputs": [
    {
     "name": "stdout",
     "output_type": "stream",
     "text": [
      "782/782 [==============================] - 14s 17ms/step - loss: 0.7281 - acc: 0.6511\n"
     ]
    },
    {
     "data": {
      "text/plain": [
       "[0.7280601859092712, 0.6510800123214722]"
      ]
     },
     "execution_count": 20,
     "metadata": {},
     "output_type": "execute_result"
    }
   ],
   "source": [
    "model.evaluate(x_test,y_test)"
   ]
  },
  {
   "cell_type": "code",
   "execution_count": 21,
   "id": "horizontal-september",
   "metadata": {},
   "outputs": [
    {
     "data": {
      "image/png": "[encoded data removed]",
      "text/plain": [
       "<Figure size 432x288 with 1 Axes>"
      ]
     },
     "metadata": {
      "needs_background": "light"
     },
     "output_type": "display_data"
    },
    {
     "data": {
      "image/png": "[encoded data removed]",
      "text/plain": [
       "<Figure size 432x288 with 1 Axes>"
      ]
     },
     "metadata": {
      "needs_background": "light"
     },
     "output_type": "display_data"
    }
   ],
   "source": [
    "import matplotlib.pyplot as plt\n",
    "\n",
    "acc = history.history['acc']\n",
    "val_acc = history.history['val_acc']\n",
    "loss = history.history['loss']\n",
    "val_loss = history.history['val_loss']\n",
    "\n",
    "epochs = range(1, len(acc) + 1)\n",
    "\n",
    "plt.plot(epochs, acc, 'bo', label='Training acc')\n",
    "plt.plot(epochs, val_acc, 'b', label='Validation acc')\n",
    "plt.title('Training and validation accuracy')\n",
    "plt.legend()\n",
    "\n",
    "plt.figure()\n",
    "\n",
    "plt.plot(epochs, loss, 'bo', label='Training loss')\n",
    "plt.plot(epochs, val_loss, 'b', label='Validation loss')\n",
    "plt.title('Training and validation loss')\n",
    "plt.legend()\n",
    "\n",
    "plt.show()"
   ]
  },
  {
   "cell_type": "markdown",
   "id": "foreign-comment",
   "metadata": {},
   "source": [
    "## 10.4\n",
    "#### Using listing 6.46 in Deep Learning with Python as a guide, fit the same data with a simple 1D convnet. Produce the model performance metrics and training and validation accuracy curves within the Jupyter notebook."
   ]
  },
  {
   "cell_type": "code",
   "execution_count": 22,
   "id": "surprised-crisis",
   "metadata": {},
   "outputs": [
    {
     "name": "stdout",
     "output_type": "stream",
     "text": [
      "Model: \"sequential_2\"\n",
      "_________________________________________________________________\n",
      "Layer (type)                 Output Shape              Param #   \n",
      "=================================================================\n",
      "embedding_2 (Embedding)      (None, 100, 128)          1280000   \n",
      "_________________________________________________________________\n",
      "conv1d (Conv1D)              (None, 94, 32)            28704     \n",
      "_________________________________________________________________\n",
      "max_pooling1d (MaxPooling1D) (None, 18, 32)            0         \n",
      "_________________________________________________________________\n",
      "conv1d_1 (Conv1D)            (None, 12, 32)            7200      \n",
      "_________________________________________________________________\n",
      "flatten (Flatten)            (None, 384)               0         \n",
      "_________________________________________________________________\n",
      "dense_3 (Dense)              (None, 1)                 385       \n",
      "=================================================================\n",
      "Total params: 1,316,289\n",
      "Trainable params: 1,316,289\n",
      "Non-trainable params: 0\n",
      "_________________________________________________________________\n",
      "Epoch 1/100\n",
      "2/2 [==============================] - 1s 173ms/step - loss: 6.9232 - acc: 0.5380 - val_loss: 5.0866 - val_acc: 0.6000\n",
      "Epoch 2/100\n",
      "2/2 [==============================] - 0s 64ms/step - loss: 5.0595 - acc: 0.5302 - val_loss: 1.9810 - val_acc: 0.6000\n",
      "Epoch 3/100\n",
      "2/2 [==============================] - 0s 46ms/step - loss: 2.1414 - acc: 0.5276 - val_loss: 1.5728 - val_acc: 0.6000\n",
      "Epoch 4/100\n",
      "2/2 [==============================] - 0s 47ms/step - loss: 1.5216 - acc: 0.5458 - val_loss: 1.1466 - val_acc: 0.6000\n",
      "Epoch 5/100\n",
      "2/2 [==============================] - 0s 54ms/step - loss: 1.1922 - acc: 0.5302 - val_loss: 1.1191 - val_acc: 0.6000\n",
      "Epoch 6/100\n",
      "2/2 [==============================] - 0s 53ms/step - loss: 1.0874 - acc: 0.5484 - val_loss: 1.0940 - val_acc: 0.6000\n",
      "Epoch 7/100\n",
      "2/2 [==============================] - 0s 54ms/step - loss: 1.0857 - acc: 0.5328 - val_loss: 1.0758 - val_acc: 0.6000\n",
      "Epoch 8/100\n",
      "2/2 [==============================] - 0s 60ms/step - loss: 1.0310 - acc: 0.5432 - val_loss: 1.0553 - val_acc: 0.6000\n",
      "Epoch 9/100\n",
      "2/2 [==============================] - 0s 49ms/step - loss: 1.0311 - acc: 0.5276 - val_loss: 1.0396 - val_acc: 0.6000\n",
      "Epoch 10/100\n",
      "2/2 [==============================] - 0s 54ms/step - loss: 0.9816 - acc: 0.5432 - val_loss: 1.0221 - val_acc: 0.6000\n",
      "Epoch 11/100\n",
      "2/2 [==============================] - 0s 52ms/step - loss: 0.9628 - acc: 0.5380 - val_loss: 1.0050 - val_acc: 0.6000\n",
      "Epoch 12/100\n",
      "2/2 [==============================] - 0s 43ms/step - loss: 0.9332 - acc: 0.5406 - val_loss: 0.9880 - val_acc: 0.6000\n",
      "Epoch 13/100\n",
      "2/2 [==============================] - 0s 43ms/step - loss: 0.9165 - acc: 0.5380 - val_loss: 0.9726 - val_acc: 0.6000\n",
      "Epoch 14/100\n",
      "2/2 [==============================] - 0s 51ms/step - loss: 0.9151 - acc: 0.5250 - val_loss: 0.9601 - val_acc: 0.6000\n",
      "Epoch 15/100\n",
      "2/2 [==============================] - 0s 50ms/step - loss: 0.8633 - acc: 0.5432 - val_loss: 0.9430 - val_acc: 0.6000\n",
      "Epoch 16/100\n",
      "2/2 [==============================] - 0s 54ms/step - loss: 0.8388 - acc: 0.5432 - val_loss: 0.9268 - val_acc: 0.6000\n",
      "Epoch 17/100\n",
      "2/2 [==============================] - 0s 59ms/step - loss: 0.8242 - acc: 0.5406 - val_loss: 0.9124 - val_acc: 0.6000\n",
      "Epoch 18/100\n",
      "2/2 [==============================] - 0s 50ms/step - loss: 0.8124 - acc: 0.5354 - val_loss: 0.8994 - val_acc: 0.6000\n",
      "Epoch 19/100\n",
      "2/2 [==============================] - 0s 52ms/step - loss: 0.7875 - acc: 0.5380 - val_loss: 0.8858 - val_acc: 0.6000\n",
      "Epoch 20/100\n",
      "2/2 [==============================] - 0s 52ms/step - loss: 0.7870 - acc: 0.5250 - val_loss: 0.8752 - val_acc: 0.6000\n",
      "Epoch 21/100\n",
      "2/2 [==============================] - 0s 55ms/step - loss: 0.7377 - acc: 0.5458 - val_loss: 0.8598 - val_acc: 0.6000\n",
      "Epoch 22/100\n",
      "2/2 [==============================] - 0s 51ms/step - loss: 0.7378 - acc: 0.5354 - val_loss: 0.8483 - val_acc: 0.6000\n",
      "Epoch 23/100\n",
      "2/2 [==============================] - 0s 50ms/step - loss: 0.7086 - acc: 0.5432 - val_loss: 0.8349 - val_acc: 0.6000\n",
      "Epoch 24/100\n",
      "2/2 [==============================] - 0s 50ms/step - loss: 0.6899 - acc: 0.5432 - val_loss: 0.8220 - val_acc: 0.6000\n",
      "Epoch 25/100\n",
      "2/2 [==============================] - 0s 51ms/step - loss: 0.6786 - acc: 0.5380 - val_loss: 0.8109 - val_acc: 0.6000\n",
      "Epoch 26/100\n",
      "2/2 [==============================] - 0s 60ms/step - loss: 0.6686 - acc: 0.5328 - val_loss: 0.8012 - val_acc: 0.6000\n",
      "Epoch 27/100\n",
      "2/2 [==============================] - 0s 48ms/step - loss: 0.6489 - acc: 0.5380 - val_loss: 0.7910 - val_acc: 0.6000\n",
      "Epoch 28/100\n",
      "2/2 [==============================] - 0s 46ms/step - loss: 0.6377 - acc: 0.5328 - val_loss: 0.7821 - val_acc: 0.6000\n",
      "Epoch 29/100\n",
      "2/2 [==============================] - 0s 51ms/step - loss: 0.6288 - acc: 0.5302 - val_loss: 0.7743 - val_acc: 0.6000\n",
      "Epoch 30/100\n",
      "2/2 [==============================] - 0s 57ms/step - loss: 0.6051 - acc: 0.5354 - val_loss: 0.7652 - val_acc: 0.6000\n",
      "Epoch 31/100\n",
      "2/2 [==============================] - 0s 52ms/step - loss: 0.5897 - acc: 0.5380 - val_loss: 0.7562 - val_acc: 0.6000\n",
      "Epoch 32/100\n",
      "2/2 [==============================] - 0s 73ms/step - loss: 0.5800 - acc: 0.5328 - val_loss: 0.7488 - val_acc: 0.6000\n",
      "Epoch 33/100\n",
      "2/2 [==============================] - 0s 53ms/step - loss: 0.5561 - acc: 0.5458 - val_loss: 0.7393 - val_acc: 0.6000\n",
      "Epoch 34/100\n",
      "2/2 [==============================] - 0s 50ms/step - loss: 0.5464 - acc: 0.5380 - val_loss: 0.7321 - val_acc: 0.6000\n",
      "Epoch 35/100\n",
      "2/2 [==============================] - 0s 51ms/step - loss: 0.5360 - acc: 0.5328 - val_loss: 0.7266 - val_acc: 0.6000\n",
      "Epoch 36/100\n",
      "2/2 [==============================] - 0s 52ms/step - loss: 0.5173 - acc: 0.5526 - val_loss: 0.7190 - val_acc: 0.6000\n",
      "Epoch 37/100\n",
      "2/2 [==============================] - 0s 59ms/step - loss: 0.5016 - acc: 0.5500 - val_loss: 0.7119 - val_acc: 0.6000\n",
      "Epoch 38/100\n",
      "2/2 [==============================] - 0s 49ms/step - loss: 0.4962 - acc: 0.5625 - val_loss: 0.7070 - val_acc: 0.6000\n",
      "Epoch 39/100\n",
      "2/2 [==============================] - 0s 40ms/step - loss: 0.4820 - acc: 0.5760 - val_loss: 0.7025 - val_acc: 0.6000\n",
      "Epoch 40/100\n",
      "2/2 [==============================] - 0s 48ms/step - loss: 0.4697 - acc: 0.6031 - val_loss: 0.6979 - val_acc: 0.6000\n",
      "Epoch 41/100\n",
      "2/2 [==============================] - 0s 47ms/step - loss: 0.4575 - acc: 0.6427 - val_loss: 0.6936 - val_acc: 0.6000\n",
      "Epoch 42/100\n",
      "2/2 [==============================] - 0s 54ms/step - loss: 0.4421 - acc: 0.6859 - val_loss: 0.6890 - val_acc: 0.6000\n",
      "Epoch 43/100\n",
      "2/2 [==============================] - 0s 51ms/step - loss: 0.4343 - acc: 0.7839 - val_loss: 0.6864 - val_acc: 0.6000\n",
      "Epoch 44/100\n",
      "2/2 [==============================] - 0s 55ms/step - loss: 0.4286 - acc: 0.8453 - val_loss: 0.6847 - val_acc: 0.6000\n",
      "Epoch 45/100\n",
      "2/2 [==============================] - 0s 42ms/step - loss: 0.4145 - acc: 0.8667 - val_loss: 0.6823 - val_acc: 0.6000\n",
      "Epoch 46/100\n",
      "2/2 [==============================] - 0s 55ms/step - loss: 0.4092 - acc: 0.9146 - val_loss: 0.6822 - val_acc: 0.6000\n",
      "Epoch 47/100\n",
      "2/2 [==============================] - 0s 50ms/step - loss: 0.3894 - acc: 0.9224 - val_loss: 0.6786 - val_acc: 0.6000\n",
      "Epoch 48/100\n",
      "2/2 [==============================] - 0s 48ms/step - loss: 0.3807 - acc: 0.9688 - val_loss: 0.6770 - val_acc: 0.6000\n",
      "Epoch 49/100\n",
      "2/2 [==============================] - 0s 55ms/step - loss: 0.3718 - acc: 0.9797 - val_loss: 0.6756 - val_acc: 0.6000\n",
      "Epoch 50/100\n",
      "2/2 [==============================] - 0s 54ms/step - loss: 0.3626 - acc: 0.9797 - val_loss: 0.6757 - val_acc: 0.6000\n",
      "Epoch 51/100\n",
      "2/2 [==============================] - 0s 49ms/step - loss: 0.3528 - acc: 0.9797 - val_loss: 0.6749 - val_acc: 0.6000\n",
      "Epoch 52/100\n",
      "2/2 [==============================] - 0s 46ms/step - loss: 0.3448 - acc: 0.9797 - val_loss: 0.6748 - val_acc: 0.6000\n",
      "Epoch 53/100\n",
      "2/2 [==============================] - 0s 55ms/step - loss: 0.3288 - acc: 0.9823 - val_loss: 0.6726 - val_acc: 0.6000\n",
      "Epoch 54/100\n",
      "2/2 [==============================] - 0s 56ms/step - loss: 0.3180 - acc: 0.9823 - val_loss: 0.6714 - val_acc: 0.6000\n",
      "Epoch 55/100\n",
      "2/2 [==============================] - 0s 50ms/step - loss: 0.3129 - acc: 0.9865 - val_loss: 0.6715 - val_acc: 0.6000\n",
      "Epoch 56/100\n",
      "2/2 [==============================] - 0s 52ms/step - loss: 0.3014 - acc: 0.9797 - val_loss: 0.6712 - val_acc: 0.6000\n",
      "Epoch 57/100\n",
      "2/2 [==============================] - 0s 49ms/step - loss: 0.2863 - acc: 0.9891 - val_loss: 0.6694 - val_acc: 0.6000\n",
      "Epoch 58/100\n",
      "2/2 [==============================] - 0s 59ms/step - loss: 0.2786 - acc: 0.9891 - val_loss: 0.6688 - val_acc: 0.6000\n",
      "Epoch 59/100\n",
      "2/2 [==============================] - 0s 53ms/step - loss: 0.2697 - acc: 0.9865 - val_loss: 0.6690 - val_acc: 0.6000\n",
      "Epoch 60/100\n",
      "2/2 [==============================] - 0s 56ms/step - loss: 0.2552 - acc: 0.9865 - val_loss: 0.6682 - val_acc: 0.6000\n",
      "Epoch 61/100\n",
      "2/2 [==============================] - 0s 56ms/step - loss: 0.2432 - acc: 0.9958 - val_loss: 0.6676 - val_acc: 0.6000\n",
      "Epoch 62/100\n",
      "2/2 [==============================] - 0s 50ms/step - loss: 0.2330 - acc: 0.9958 - val_loss: 0.6669 - val_acc: 0.6000\n",
      "Epoch 63/100\n",
      "2/2 [==============================] - 0s 47ms/step - loss: 0.2253 - acc: 0.9932 - val_loss: 0.6670 - val_acc: 0.6000\n",
      "Epoch 64/100\n",
      "2/2 [==============================] - 0s 46ms/step - loss: 0.2150 - acc: 0.9932 - val_loss: 0.6670 - val_acc: 0.6000\n",
      "Epoch 65/100\n",
      "2/2 [==============================] - 0s 43ms/step - loss: 0.2041 - acc: 0.9932 - val_loss: 0.6664 - val_acc: 0.6000\n",
      "Epoch 66/100\n",
      "2/2 [==============================] - 0s 67ms/step - loss: 0.1934 - acc: 0.9932 - val_loss: 0.6663 - val_acc: 0.6000\n",
      "Epoch 67/100\n",
      "2/2 [==============================] - 0s 51ms/step - loss: 0.1837 - acc: 0.9932 - val_loss: 0.6661 - val_acc: 0.6000\n",
      "Epoch 68/100\n",
      "2/2 [==============================] - 0s 48ms/step - loss: 0.1718 - acc: 0.9932 - val_loss: 0.6653 - val_acc: 0.6000\n",
      "Epoch 69/100\n",
      "2/2 [==============================] - 0s 64ms/step - loss: 0.1579 - acc: 0.9958 - val_loss: 0.6646 - val_acc: 0.6000\n",
      "Epoch 70/100\n",
      "2/2 [==============================] - 0s 49ms/step - loss: 0.1530 - acc: 0.9932 - val_loss: 0.6644 - val_acc: 0.6000\n",
      "Epoch 71/100\n",
      "2/2 [==============================] - 0s 47ms/step - loss: 0.1421 - acc: 0.9932 - val_loss: 0.6641 - val_acc: 0.6000\n",
      "Epoch 72/100\n",
      "2/2 [==============================] - 0s 49ms/step - loss: 0.1308 - acc: 0.9932 - val_loss: 0.6643 - val_acc: 0.6000\n",
      "Epoch 73/100\n",
      "2/2 [==============================] - 0s 50ms/step - loss: 0.1189 - acc: 0.9958 - val_loss: 0.6636 - val_acc: 0.5750\n",
      "Epoch 74/100\n",
      "2/2 [==============================] - 0s 52ms/step - loss: 0.1097 - acc: 0.9932 - val_loss: 0.6655 - val_acc: 0.5750\n",
      "Epoch 75/100\n",
      "2/2 [==============================] - 0s 54ms/step - loss: 0.0999 - acc: 0.9932 - val_loss: 0.6653 - val_acc: 0.5750\n",
      "Epoch 76/100\n",
      "2/2 [==============================] - 0s 51ms/step - loss: 0.0892 - acc: 0.9932 - val_loss: 0.6662 - val_acc: 0.5750\n",
      "Epoch 77/100\n",
      "2/2 [==============================] - 0s 49ms/step - loss: 0.0784 - acc: 0.9932 - val_loss: 0.6688 - val_acc: 0.6250\n",
      "Epoch 78/100\n",
      "2/2 [==============================] - 0s 65ms/step - loss: 0.0712 - acc: 0.9932 - val_loss: 0.6708 - val_acc: 0.6500\n",
      "Epoch 79/100\n",
      "2/2 [==============================] - 0s 46ms/step - loss: 0.0614 - acc: 0.9932 - val_loss: 0.6667 - val_acc: 0.6250\n",
      "Epoch 80/100\n",
      "2/2 [==============================] - 0s 51ms/step - loss: 0.0547 - acc: 0.9932 - val_loss: 0.6706 - val_acc: 0.6500\n",
      "Epoch 81/100\n",
      "2/2 [==============================] - 0s 49ms/step - loss: 0.0450 - acc: 0.9932 - val_loss: 0.6684 - val_acc: 0.6250\n",
      "Epoch 82/100\n",
      "2/2 [==============================] - 0s 44ms/step - loss: 0.0398 - acc: 0.9958 - val_loss: 0.6700 - val_acc: 0.6500\n",
      "Epoch 83/100\n",
      "2/2 [==============================] - 0s 48ms/step - loss: 0.0356 - acc: 0.9932 - val_loss: 0.6697 - val_acc: 0.6500\n",
      "Epoch 84/100\n",
      "2/2 [==============================] - 0s 48ms/step - loss: 0.0296 - acc: 0.9958 - val_loss: 0.6732 - val_acc: 0.6500\n",
      "Epoch 85/100\n",
      "2/2 [==============================] - 0s 45ms/step - loss: 0.0279 - acc: 0.9932 - val_loss: 0.6656 - val_acc: 0.6250\n",
      "Epoch 86/100\n",
      "2/2 [==============================] - 0s 56ms/step - loss: 0.0237 - acc: 0.9932 - val_loss: 0.6691 - val_acc: 0.6500\n",
      "Epoch 87/100\n",
      "2/2 [==============================] - 0s 39ms/step - loss: 0.0189 - acc: 0.9932 - val_loss: 0.6674 - val_acc: 0.6500\n",
      "Epoch 88/100\n",
      "2/2 [==============================] - 0s 43ms/step - loss: 0.0169 - acc: 0.9932 - val_loss: 0.6664 - val_acc: 0.6250\n",
      "Epoch 89/100\n",
      "2/2 [==============================] - 0s 50ms/step - loss: 0.0153 - acc: 0.9932 - val_loss: 0.6694 - val_acc: 0.6500\n",
      "Epoch 90/100\n",
      "2/2 [==============================] - 0s 48ms/step - loss: 0.0128 - acc: 0.9932 - val_loss: 0.6672 - val_acc: 0.6500\n",
      "Epoch 91/100\n",
      "2/2 [==============================] - 0s 57ms/step - loss: 0.0117 - acc: 1.0000 - val_loss: 0.6671 - val_acc: 0.6500\n",
      "Epoch 92/100\n",
      "2/2 [==============================] - 0s 48ms/step - loss: 0.0109 - acc: 0.9932 - val_loss: 0.6696 - val_acc: 0.6500\n",
      "Epoch 93/100\n",
      "2/2 [==============================] - 0s 43ms/step - loss: 0.0081 - acc: 1.0000 - val_loss: 0.6671 - val_acc: 0.6500\n",
      "Epoch 94/100\n",
      "2/2 [==============================] - 0s 49ms/step - loss: 0.0080 - acc: 1.0000 - val_loss: 0.6675 - val_acc: 0.6500\n",
      "Epoch 95/100\n",
      "2/2 [==============================] - 0s 57ms/step - loss: 0.0081 - acc: 1.0000 - val_loss: 0.6665 - val_acc: 0.6500\n",
      "Epoch 96/100\n",
      "2/2 [==============================] - 0s 51ms/step - loss: 0.0073 - acc: 1.0000 - val_loss: 0.6676 - val_acc: 0.6500\n",
      "Epoch 97/100\n",
      "2/2 [==============================] - 0s 48ms/step - loss: 0.0071 - acc: 1.0000 - val_loss: 0.6684 - val_acc: 0.6500\n",
      "Epoch 98/100\n",
      "2/2 [==============================] - 0s 48ms/step - loss: 0.0068 - acc: 1.0000 - val_loss: 0.6675 - val_acc: 0.6500\n",
      "Epoch 99/100\n",
      "2/2 [==============================] - 0s 51ms/step - loss: 0.0066 - acc: 1.0000 - val_loss: 0.6675 - val_acc: 0.6500\n",
      "Epoch 100/100\n",
      "2/2 [==============================] - 0s 50ms/step - loss: 0.0064 - acc: 1.0000 - val_loss: 0.6675 - val_acc: 0.6500\n"
     ]
    }
   ],
   "source": [
    "from keras.models import Sequential\n",
    "from keras import layers\n",
    "from keras.optimizers import RMSprop\n",
    "\n",
    "max_features = 10000\n",
    "max_len = 100\n",
    "\n",
    "model = Sequential()\n",
    "model.add(layers.Embedding(max_features, 128, input_length=max_len))\n",
    "model.add(layers.Conv1D(32, 7, activation='relu'))\n",
    "model.add(layers.MaxPooling1D(5))\n",
    "model.add(layers.Conv1D(32, 7, activation='relu'))\n",
    "model.add(layers.Flatten())\n",
    "model.add(layers.Dense(1))\n",
    "\n",
    "model.summary()\n",
    "\n",
    "model.compile(optimizer=RMSprop(lr=1e-4),\n",
    "              loss='binary_crossentropy',\n",
    "              metrics=['acc'])\n",
    "history = model.fit(x_train, y_train,\n",
    "                    epochs=100,\n",
    "                    batch_size=128,\n",
    "                    validation_split=0.2)"
   ]
  },
  {
   "cell_type": "code",
   "execution_count": 23,
   "id": "german-liberty",
   "metadata": {},
   "outputs": [
    {
     "data": {
      "image/png": "[encoded data removed]",
      "text/plain": [
       "<Figure size 432x288 with 1 Axes>"
      ]
     },
     "metadata": {
      "needs_background": "light"
     },
     "output_type": "display_data"
    },
    {
     "data": {
      "image/png": "[encoded data removed]",
      "text/plain": [
       "<Figure size 432x288 with 1 Axes>"
      ]
     },
     "metadata": {
      "needs_background": "light"
     },
     "output_type": "display_data"
    }
   ],
   "source": [
    "import matplotlib.pyplot as plt\n",
    "\n",
    "acc = history.history['acc']\n",
    "val_acc = history.history['val_acc']\n",
    "loss = history.history['loss']\n",
    "val_loss = history.history['val_loss']\n",
    "\n",
    "epochs = range(1, len(acc) + 1)\n",
    "\n",
    "plt.plot(epochs, acc, 'bo', label='Training acc')\n",
    "plt.plot(epochs, val_acc, 'b', label='Validation acc')\n",
    "plt.title('Training and validation accuracy')\n",
    "plt.legend()\n",
    "\n",
    "plt.figure()\n",
    "\n",
    "plt.plot(epochs, loss, 'bo', label='Training loss')\n",
    "plt.plot(epochs, val_loss, 'b', label='Validation loss')\n",
    "plt.title('Training and validation loss')\n",
    "plt.legend()\n",
    "\n",
    "plt.show()"
   ]
  },
  {
   "cell_type": "code",
   "execution_count": null,
   "id": "dangerous-ownership",
   "metadata": {},
   "outputs": [],
   "source": []
  }
 ],
 "metadata": {
  "kernelspec": {
   "display_name": "Python 3",
   "language": "python",
   "name": "python3"
  },
  "language_info": {
   "codemirror_mode": {
    "name": "ipython",
    "version": 3
   },
   "file_extension": ".py",
   "mimetype": "text/x-python",
   "name": "python",
   "nbconvert_exporter": "python",
   "pygments_lexer": "ipython3",
   "version": "3.8.8"
  }
 },
 "nbformat": 4,
 "nbformat_minor": 5
}
