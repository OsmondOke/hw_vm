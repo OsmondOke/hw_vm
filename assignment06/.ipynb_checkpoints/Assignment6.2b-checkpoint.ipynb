{
 "cells": [
  {
   "cell_type": "code",
   "execution_count": 1,
   "id": "personal-regulation",
   "metadata": {},
   "outputs": [],
   "source": [
    "#Assignment 6.2b\n",
    "#Building a ConVet model that classifies CIFAR10\n",
    "#with dropdowns and data augmentation"
   ]
  },
  {
   "cell_type": "code",
   "execution_count": 2,
   "id": "settled-classic",
   "metadata": {},
   "outputs": [],
   "source": [
    "#importing data\n",
    "from keras.datasets import cifar10\n",
    "from keras.utils import to_categorical\n",
    "from keras.preprocessing.image import ImageDataGenerator\n",
    "\n",
    "(x_train, y_train), (x_test, y_test) = cifar10.load_data()"
   ]
  },
  {
   "cell_type": "code",
   "execution_count": 3,
   "id": "unlikely-dallas",
   "metadata": {},
   "outputs": [
    {
     "data": {
      "text/plain": [
       "((50000, 32, 32, 3), (50000, 1))"
      ]
     },
     "execution_count": 3,
     "metadata": {},
     "output_type": "execute_result"
    }
   ],
   "source": [
    "#viewing the training set dimensions\n",
    "x_train.shape, y_train.shape"
   ]
  },
  {
   "cell_type": "code",
   "execution_count": 4,
   "id": "younger-channel",
   "metadata": {},
   "outputs": [
    {
     "data": {
      "text/plain": [
       "((10000, 32, 32, 3), (10000, 1))"
      ]
     },
     "execution_count": 4,
     "metadata": {},
     "output_type": "execute_result"
    }
   ],
   "source": [
    "#viewing the testing set dimensions\n",
    "x_test.shape, y_test.shape"
   ]
  },
  {
   "cell_type": "code",
   "execution_count": 5,
   "id": "strong-container",
   "metadata": {},
   "outputs": [],
   "source": [
    "#preparing the data \n",
    "x_train = x_train.astype(\"float32\")\n",
    "x_test = x_test.astype(\"float32\")\n",
    "\n",
    "y_train = to_categorical(y_train)\n",
    "y_test = to_categorical(y_test)\n",
    "\n",
    "x_val = x_train[-10000:]\n",
    "y_val = y_train[-10000:]\n",
    "x_train_2 = x_train[:-10000]\n",
    "y_train_2 = y_train[:-10000]"
   ]
  },
  {
   "cell_type": "code",
   "execution_count": 6,
   "id": "reverse-headquarters",
   "metadata": {},
   "outputs": [],
   "source": [
    "train_datagen = ImageDataGenerator(rescale=1./255,\n",
    "                                  rotation_range=40,\n",
    "                                  width_shift_range=0.2,\n",
    "                                  height_shift_range=0.2,\n",
    "                                  shear_range=0.2,\n",
    "                                  zoom_range=0.2,\n",
    "                                  horizontal_flip=True)\n",
    "\n",
    "test_datagen = ImageDataGenerator(rescale=1./255)\n",
    "\n",
    "train_generator = train_datagen.flow(x_train_2, y_train_2,  batch_size=32)\n",
    "\n",
    "validation_generator = train_datagen.flow(x_val, y_val, batch_size=32)"
   ]
  },
  {
   "cell_type": "code",
   "execution_count": 7,
   "id": "circular-surname",
   "metadata": {},
   "outputs": [
    {
     "name": "stdout",
     "output_type": "stream",
     "text": [
      "Model: \"sequential\"\n",
      "_________________________________________________________________\n",
      "Layer (type)                 Output Shape              Param #   \n",
      "=================================================================\n",
      "conv2d (Conv2D)              (None, 30, 30, 32)        896       \n",
      "_________________________________________________________________\n",
      "max_pooling2d (MaxPooling2D) (None, 15, 15, 32)        0         \n",
      "_________________________________________________________________\n",
      "conv2d_1 (Conv2D)            (None, 13, 13, 64)        18496     \n",
      "_________________________________________________________________\n",
      "max_pooling2d_1 (MaxPooling2 (None, 6, 6, 64)          0         \n",
      "_________________________________________________________________\n",
      "conv2d_2 (Conv2D)            (None, 4, 4, 64)          36928     \n",
      "_________________________________________________________________\n",
      "max_pooling2d_2 (MaxPooling2 (None, 2, 2, 64)          0         \n",
      "_________________________________________________________________\n",
      "flatten (Flatten)            (None, 256)               0         \n",
      "_________________________________________________________________\n",
      "dropout (Dropout)            (None, 256)               0         \n",
      "_________________________________________________________________\n",
      "dense (Dense)                (None, 64)                16448     \n",
      "_________________________________________________________________\n",
      "dense_1 (Dense)              (None, 10)                650       \n",
      "=================================================================\n",
      "Total params: 73,418\n",
      "Trainable params: 73,418\n",
      "Non-trainable params: 0\n",
      "_________________________________________________________________\n"
     ]
    }
   ],
   "source": [
    "#instantiating the model\n",
    "from keras import models\n",
    "from keras import layers\n",
    "\n",
    "model = models.Sequential()\n",
    "model.add(layers.Conv2D(32, (3,3), activation='relu', input_shape=(32,32,3)))\n",
    "model.add(layers.MaxPooling2D(2,2))\n",
    "model.add(layers.Conv2D(64, (3,3), activation='relu'))\n",
    "model.add(layers.MaxPooling2D(2,2))\n",
    "model.add(layers.Conv2D(64, (3,3), activation='relu'))\n",
    "model.add(layers.MaxPooling2D(2,2))\n",
    "model.add(layers.Flatten())\n",
    "model.add(layers.Dropout(0.5))\n",
    "model.add(layers.Dense(64, activation='relu'))\n",
    "model.add(layers.Dense(10, activation='softmax'))\n",
    "\n",
    "model.summary()"
   ]
  },
  {
   "cell_type": "code",
   "execution_count": 8,
   "id": "spiritual-clone",
   "metadata": {},
   "outputs": [],
   "source": [
    "#compiling the model\n",
    "from keras import optimizers\n",
    "\n",
    "model.compile(optimizer=optimizers.RMSprop(lr=1e-4),\n",
    "             loss='categorical_crossentropy',\n",
    "             metrics=['accuracy'])"
   ]
  },
  {
   "cell_type": "code",
   "execution_count": 9,
   "id": "internal-dependence",
   "metadata": {},
   "outputs": [
    {
     "name": "stderr",
     "output_type": "stream",
     "text": [
      "/opt/conda/lib/python3.8/site-packages/tensorflow/python/keras/engine/training.py:1844: UserWarning: `Model.fit_generator` is deprecated and will be removed in a future version. Please use `Model.fit`, which supports generators.\n",
      "  warnings.warn('`Model.fit_generator` is deprecated and '\n"
     ]
    },
    {
     "name": "stdout",
     "output_type": "stream",
     "text": [
      "Epoch 1/30\n",
      "1250/1250 [==============================] - 61s 48ms/step - loss: 2.2066 - accuracy: 0.1586 - val_loss: 1.9996 - val_accuracy: 0.2594\n",
      "Epoch 2/30\n",
      "1250/1250 [==============================] - 57s 46ms/step - loss: 1.9913 - accuracy: 0.2540 - val_loss: 1.8778 - val_accuracy: 0.3059\n",
      "Epoch 3/30\n",
      "1250/1250 [==============================] - 57s 46ms/step - loss: 1.9000 - accuracy: 0.2909 - val_loss: 1.7988 - val_accuracy: 0.3344\n",
      "Epoch 4/30\n",
      "1250/1250 [==============================] - 58s 46ms/step - loss: 1.8320 - accuracy: 0.3178 - val_loss: 1.7517 - val_accuracy: 0.3577\n",
      "Epoch 5/30\n",
      "1250/1250 [==============================] - 57s 46ms/step - loss: 1.7847 - accuracy: 0.3372 - val_loss: 1.7382 - val_accuracy: 0.3693\n",
      "Epoch 6/30\n",
      "1250/1250 [==============================] - 57s 46ms/step - loss: 1.7623 - accuracy: 0.3514 - val_loss: 1.7129 - val_accuracy: 0.3787\n",
      "Epoch 7/30\n",
      "1250/1250 [==============================] - 57s 46ms/step - loss: 1.7320 - accuracy: 0.3626 - val_loss: 1.6594 - val_accuracy: 0.3936\n",
      "Epoch 8/30\n",
      "1250/1250 [==============================] - 58s 46ms/step - loss: 1.7025 - accuracy: 0.3716 - val_loss: 1.6485 - val_accuracy: 0.4010\n",
      "Epoch 9/30\n",
      "1250/1250 [==============================] - 58s 46ms/step - loss: 1.6825 - accuracy: 0.3850 - val_loss: 1.6299 - val_accuracy: 0.4082\n",
      "Epoch 10/30\n",
      "1250/1250 [==============================] - 57s 46ms/step - loss: 1.6595 - accuracy: 0.3956 - val_loss: 1.6040 - val_accuracy: 0.4187\n",
      "Epoch 11/30\n",
      "1250/1250 [==============================] - 57s 46ms/step - loss: 1.6458 - accuracy: 0.4040 - val_loss: 1.5953 - val_accuracy: 0.4233\n",
      "Epoch 12/30\n",
      "1250/1250 [==============================] - 61s 49ms/step - loss: 1.6233 - accuracy: 0.4085 - val_loss: 1.5649 - val_accuracy: 0.4329\n",
      "Epoch 13/30\n",
      "1250/1250 [==============================] - 62s 50ms/step - loss: 1.6194 - accuracy: 0.4141 - val_loss: 1.5612 - val_accuracy: 0.4370\n",
      "Epoch 14/30\n",
      "1250/1250 [==============================] - 61s 49ms/step - loss: 1.6007 - accuracy: 0.4217 - val_loss: 1.5446 - val_accuracy: 0.4475\n",
      "Epoch 15/30\n",
      "1250/1250 [==============================] - 58s 46ms/step - loss: 1.5951 - accuracy: 0.4242 - val_loss: 1.5189 - val_accuracy: 0.4512\n",
      "Epoch 16/30\n",
      "1250/1250 [==============================] - 58s 46ms/step - loss: 1.5705 - accuracy: 0.4349 - val_loss: 1.5182 - val_accuracy: 0.4507\n",
      "Epoch 17/30\n",
      "1250/1250 [==============================] - 58s 46ms/step - loss: 1.5658 - accuracy: 0.4389 - val_loss: 1.5109 - val_accuracy: 0.4550\n",
      "Epoch 18/30\n",
      "1250/1250 [==============================] - 57s 46ms/step - loss: 1.5575 - accuracy: 0.4362 - val_loss: 1.5046 - val_accuracy: 0.4655\n",
      "Epoch 19/30\n",
      "1250/1250 [==============================] - 57s 46ms/step - loss: 1.5364 - accuracy: 0.4439 - val_loss: 1.4651 - val_accuracy: 0.4805\n",
      "Epoch 20/30\n",
      "1250/1250 [==============================] - 57s 46ms/step - loss: 1.5281 - accuracy: 0.4539 - val_loss: 1.4872 - val_accuracy: 0.4619\n",
      "Epoch 21/30\n",
      "1250/1250 [==============================] - 57s 46ms/step - loss: 1.5336 - accuracy: 0.4501 - val_loss: 1.4559 - val_accuracy: 0.4801\n",
      "Epoch 22/30\n",
      "1250/1250 [==============================] - 57s 46ms/step - loss: 1.5039 - accuracy: 0.4598 - val_loss: 1.4472 - val_accuracy: 0.4851\n",
      "Epoch 23/30\n",
      "1250/1250 [==============================] - 57s 46ms/step - loss: 1.4965 - accuracy: 0.4686 - val_loss: 1.4471 - val_accuracy: 0.4840\n",
      "Epoch 24/30\n",
      "1250/1250 [==============================] - 59s 47ms/step - loss: 1.4875 - accuracy: 0.4696 - val_loss: 1.4356 - val_accuracy: 0.4882\n",
      "Epoch 25/30\n",
      "1250/1250 [==============================] - 62s 50ms/step - loss: 1.4923 - accuracy: 0.4644 - val_loss: 1.4417 - val_accuracy: 0.4853\n",
      "Epoch 26/30\n",
      "1250/1250 [==============================] - 60s 48ms/step - loss: 1.4864 - accuracy: 0.4705 - val_loss: 1.4483 - val_accuracy: 0.4865\n",
      "Epoch 27/30\n",
      "1250/1250 [==============================] - 57s 46ms/step - loss: 1.4841 - accuracy: 0.4693 - val_loss: 1.4326 - val_accuracy: 0.4876\n",
      "Epoch 28/30\n",
      "1250/1250 [==============================] - 57s 46ms/step - loss: 1.4707 - accuracy: 0.4756 - val_loss: 1.4084 - val_accuracy: 0.4979\n",
      "Epoch 29/30\n",
      "1250/1250 [==============================] - 62s 49ms/step - loss: 1.4653 - accuracy: 0.4769 - val_loss: 1.3951 - val_accuracy: 0.5072\n",
      "Epoch 30/30\n",
      "1250/1250 [==============================] - 62s 50ms/step - loss: 1.4496 - accuracy: 0.4801 - val_loss: 1.3845 - val_accuracy: 0.5144\n"
     ]
    }
   ],
   "source": [
    "history = model.fit_generator(train_generator,\n",
    "                             steps_per_epoch=len(x_train_2) / 32,\n",
    "                             epochs=30,\n",
    "                             validation_data=validation_generator,\n",
    "                             validation_steps=len(x_val) / 32)"
   ]
  },
  {
   "cell_type": "code",
   "execution_count": 10,
   "id": "distant-textbook",
   "metadata": {},
   "outputs": [
    {
     "data": {
      "image/png": "[encoded data removed]",
      "text/plain": [
       "<Figure size 432x288 with 1 Axes>"
      ]
     },
     "metadata": {
      "needs_background": "light"
     },
     "output_type": "display_data"
    }
   ],
   "source": [
    "#plotting training and validation losses\n",
    "import matplotlib.pyplot as plt\n",
    "\n",
    "train_loss = history.history['loss']\n",
    "val_loss = history.history['val_loss']\n",
    "\n",
    "epochs = range(1, len(history.history['loss']) + 1)\n",
    "\n",
    "plt.plot(epochs, train_loss, 'bo', label='Training loss')\n",
    "plt.plot(epochs, val_loss, 'b', label='Validation loss')\n",
    "plt.title('Training and Validation Losses')\n",
    "plt.xlabel('Epochs')\n",
    "plt.ylabel('Loss')\n",
    "plt.legend()\n",
    "\n",
    "plt.show()"
   ]
  },
  {
   "cell_type": "code",
   "execution_count": 11,
   "id": "cultural-nation",
   "metadata": {},
   "outputs": [
    {
     "data": {
      "image/png": "[encoded data removed]",
      "text/plain": [
       "<Figure size 432x288 with 1 Axes>"
      ]
     },
     "metadata": {
      "needs_background": "light"
     },
     "output_type": "display_data"
    }
   ],
   "source": [
    "#plotting training and validation accuracy\n",
    "import matplotlib.pyplot as plt\n",
    "\n",
    "train_loss = history.history['accuracy']\n",
    "val_loss = history.history['val_accuracy']\n",
    "\n",
    "epochs = range(1, len(history.history['accuracy']) + 1)\n",
    "\n",
    "plt.plot(epochs, train_loss, 'bo', label='Training accuracy')\n",
    "plt.plot(epochs, val_loss, 'b', label='Validation accuracy')\n",
    "plt.title('Training and Validation Accuracy')\n",
    "plt.xlabel('Epochs')\n",
    "plt.ylabel('Accuracy')\n",
    "plt.legend()\n",
    "\n",
    "plt.show()"
   ]
  },
  {
   "cell_type": "code",
   "execution_count": 12,
   "id": "awful-candy",
   "metadata": {},
   "outputs": [
    {
     "name": "stderr",
     "output_type": "stream",
     "text": [
      "/opt/conda/lib/python3.8/site-packages/tensorflow/python/keras/engine/training.py:1844: UserWarning: `Model.fit_generator` is deprecated and will be removed in a future version. Please use `Model.fit`, which supports generators.\n",
      "  warnings.warn('`Model.fit_generator` is deprecated and '\n"
     ]
    },
    {
     "name": "stdout",
     "output_type": "stream",
     "text": [
      "Epoch 1/16\n",
      "1562/1562 [==============================] - 62s 39ms/step - loss: 1.4458 - accuracy: 0.4843\n",
      "Epoch 2/16\n",
      "1562/1562 [==============================] - 61s 39ms/step - loss: 1.4436 - accuracy: 0.48490s - loss: 1.4437 - \n",
      "Epoch 3/16\n",
      "1562/1562 [==============================] - 60s 38ms/step - loss: 1.4373 - accuracy: 0.4898\n",
      "Epoch 4/16\n",
      "1562/1562 [==============================] - 63s 40ms/step - loss: 1.4235 - accuracy: 0.4913\n",
      "Epoch 5/16\n",
      "1562/1562 [==============================] - 64s 41ms/step - loss: 1.4219 - accuracy: 0.4904\n",
      "Epoch 6/16\n",
      "1562/1562 [==============================] - 60s 38ms/step - loss: 1.4187 - accuracy: 0.4972\n",
      "Epoch 7/16\n",
      "1562/1562 [==============================] - 59s 37ms/step - loss: 1.4063 - accuracy: 0.5000\n",
      "Epoch 8/16\n",
      "1562/1562 [==============================] - 59s 37ms/step - loss: 1.3929 - accuracy: 0.5035\n",
      "Epoch 9/16\n",
      "1562/1562 [==============================] - 59s 38ms/step - loss: 1.3949 - accuracy: 0.4999\n",
      "Epoch 10/16\n",
      "1562/1562 [==============================] - 68s 43ms/step - loss: 1.3811 - accuracy: 0.5082\n",
      "Epoch 11/16\n",
      "1562/1562 [==============================] - 71s 45ms/step - loss: 1.3713 - accuracy: 0.5072\n",
      "Epoch 12/16\n",
      "1562/1562 [==============================] - 72s 46ms/step - loss: 1.3763 - accuracy: 0.5157\n",
      "Epoch 13/16\n",
      "1562/1562 [==============================] - 72s 46ms/step - loss: 1.3664 - accuracy: 0.5166\n",
      "Epoch 14/16\n",
      "1562/1562 [==============================] - 71s 46ms/step - loss: 1.3688 - accuracy: 0.5128\n",
      "Epoch 15/16\n",
      "1562/1562 [==============================] - 70s 45ms/step - loss: 1.3514 - accuracy: 0.5217\n",
      "Epoch 16/16\n",
      "1562/1562 [==============================] - 73s 47ms/step - loss: 1.3503 - accuracy: 0.5198\n",
      "313/313 [==============================] - 3s 10ms/step - loss: 198.5675 - accuracy: 0.3916\n"
     ]
    }
   ],
   "source": [
    "#retraining and evaluating the model\n",
    "train_generator = train_datagen.flow(x_train, y_train,  batch_size=32)\n",
    "\n",
    "model.compile(optimizer=optimizers.RMSprop(lr=1e-4),\n",
    "             loss='categorical_crossentropy',\n",
    "             metrics=['accuracy'])\n",
    "\n",
    "history = model.fit_generator(train_generator,\n",
    "                             steps_per_epoch=len(x_train) / 32,\n",
    "                             epochs=16)\n",
    "results = model.evaluate(x_test, y_test)"
   ]
  },
  {
   "cell_type": "code",
   "execution_count": 13,
   "id": "suitable-superintendent",
   "metadata": {},
   "outputs": [],
   "source": [
    "#saving the model\n",
    "model.save('results/6_2b_model.h5')"
   ]
  },
  {
   "cell_type": "code",
   "execution_count": 14,
   "id": "wooden-education",
   "metadata": {},
   "outputs": [],
   "source": [
    "prediction_results = model.predict(x_test)"
   ]
  },
  {
   "cell_type": "code",
   "execution_count": 15,
   "id": "certified-bachelor",
   "metadata": {},
   "outputs": [],
   "source": [
    "#writing metrics to file\n",
    "with open('results/6_2b_metrics.txt', 'w') as f:\n",
    "    f.write('Training Loss: {}'.format(str(history.history['loss'])))\n",
    "    f.write('\\nTraining Accuracy: {}'.format(str(history.history['accuracy'])))\n",
    "    f.write('\\nTest Loss: {}'.format(results[0]))\n",
    "    f.write('\\nTest Accuracy: {}'.format(results[1]))"
   ]
  },
  {
   "cell_type": "code",
   "execution_count": 16,
   "id": "protective-level",
   "metadata": {},
   "outputs": [],
   "source": [
    "import pandas as pd\n",
    "\n",
    "predictions = pd.DataFrame(prediction_results, columns=['0','1','2','3','4','5','6','7','8','9'])\n",
    "predictions.to_csv('results/6_2b_predictions.csv', index=False)"
   ]
  },
  {
   "cell_type": "code",
   "execution_count": null,
   "id": "heated-pharmacy",
   "metadata": {},
   "outputs": [],
   "source": []
  }
 ],
 "metadata": {
  "kernelspec": {
   "display_name": "Python 3",
   "language": "python",
   "name": "python3"
  },
  "language_info": {
   "codemirror_mode": {
    "name": "ipython",
    "version": 3
   },
   "file_extension": ".py",
   "mimetype": "text/x-python",
   "name": "python",
   "nbconvert_exporter": "python",
   "pygments_lexer": "ipython3",
   "version": "3.8.8"
  }
 },
 "nbformat": 4,
 "nbformat_minor": 5
}
