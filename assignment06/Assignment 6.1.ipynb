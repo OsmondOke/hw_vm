{
 "cells": [
  {
   "cell_type": "code",
   "execution_count": 1,
   "id": "sudden-optics",
   "metadata": {},
   "outputs": [],
   "source": [
    "#Assignment 6.1\n",
    "#Building a ConVet model"
   ]
  },
  {
   "cell_type": "code",
   "execution_count": 2,
   "id": "cooperative-inspiration",
   "metadata": {},
   "outputs": [
    {
     "name": "stdout",
     "output_type": "stream",
     "text": [
      "Model: \"sequential\"\n",
      "_________________________________________________________________\n",
      "Layer (type)                 Output Shape              Param #   \n",
      "=================================================================\n",
      "conv2d (Conv2D)              (None, 26, 26, 32)        320       \n",
      "_________________________________________________________________\n",
      "max_pooling2d (MaxPooling2D) (None, 13, 13, 32)        0         \n",
      "_________________________________________________________________\n",
      "conv2d_1 (Conv2D)            (None, 11, 11, 64)        18496     \n",
      "_________________________________________________________________\n",
      "max_pooling2d_1 (MaxPooling2 (None, 5, 5, 64)          0         \n",
      "_________________________________________________________________\n",
      "conv2d_2 (Conv2D)            (None, 3, 3, 64)          36928     \n",
      "_________________________________________________________________\n",
      "flatten (Flatten)            (None, 576)               0         \n",
      "_________________________________________________________________\n",
      "dense (Dense)                (None, 64)                36928     \n",
      "_________________________________________________________________\n",
      "dense_1 (Dense)              (None, 10)                650       \n",
      "=================================================================\n",
      "Total params: 93,322\n",
      "Trainable params: 93,322\n",
      "Non-trainable params: 0\n",
      "_________________________________________________________________\n"
     ]
    }
   ],
   "source": [
    "from keras import layers\n",
    "from keras import models\n",
    "\n",
    "#initiate a small convnet\n",
    "\n",
    "model = models.Sequential()\n",
    "model.add(layers.Conv2D(32, (3,3), activation='relu', input_shape=(28,28,1)))\n",
    "model.add(layers.MaxPooling2D((2,2)))\n",
    "model.add(layers.Conv2D(64, (3,3), activation='relu'))\n",
    "model.add(layers.MaxPooling2D((2,2)))\n",
    "model.add(layers.Conv2D(64, (3,3), activation='relu'))\n",
    "\n",
    "#add a clasifier on top of the convnet\n",
    "model.add(layers.Flatten())\n",
    "model.add(layers.Dense(64, activation='relu'))\n",
    "model.add(layers.Dense(10, activation='softmax'))\n",
    "\n",
    "model.summary()"
   ]
  },
  {
   "cell_type": "code",
   "execution_count": 3,
   "id": "black-simple",
   "metadata": {},
   "outputs": [
    {
     "data": {
      "text/plain": [
       "((50000, 28, 28, 1), (10000, 28, 28, 1))"
      ]
     },
     "execution_count": 3,
     "metadata": {},
     "output_type": "execute_result"
    }
   ],
   "source": [
    "#training the convnet model\n",
    "#on the MNIST data\n",
    "\n",
    "from keras.datasets import mnist\n",
    "from keras.utils import to_categorical\n",
    "import numpy as np\n",
    "\n",
    "(train_images, train_labels), (test_images, test_labels) = mnist.load_data()\n",
    "train_images = train_images.reshape((60000, 28, 28, 1))\n",
    "train_images = train_images.astype('float32') / 255\n",
    "\n",
    "test_images = test_images.reshape((10000, 28, 28, 1))\n",
    "test_images = test_images.astype('float32') / 255\n",
    "\n",
    "train_labels = to_categorical(train_labels)\n",
    "test_labels = to_categorical(test_labels)\n",
    "\n",
    "#shuffle the training set\n",
    "for _ in range(5): \n",
    "    indexes = np.random.permutation(len(train_images))\n",
    "    \n",
    "train_images = train_images[indexes]\n",
    "train_labels = train_labels[indexes]\n",
    "\n",
    "#set aside 10,000 for validation\n",
    "val_images = train_images[:10000,:]\n",
    "val_labels = train_labels[:10000,:]\n",
    "\n",
    "# leave rest in training set\n",
    "train_images2 = train_images[10000:,:]\n",
    "train_labels2 = train_labels[10000:,:]\n",
    "\n",
    "train_images2.shape, val_images.shape"
   ]
  },
  {
   "cell_type": "code",
   "execution_count": 4,
   "id": "naked-trustee",
   "metadata": {},
   "outputs": [
    {
     "name": "stdout",
     "output_type": "stream",
     "text": [
      "Epoch 1/5\n",
      "782/782 [==============================] - 13s 16ms/step - loss: 0.4512 - accuracy: 0.8555 - val_loss: 0.1417 - val_accuracy: 0.9547\n",
      "Epoch 2/5\n",
      "782/782 [==============================] - 11s 14ms/step - loss: 0.0576 - accuracy: 0.9817 - val_loss: 0.0482 - val_accuracy: 0.9866\n",
      "Epoch 3/5\n",
      "782/782 [==============================] - 11s 14ms/step - loss: 0.0361 - accuracy: 0.9883 - val_loss: 0.0359 - val_accuracy: 0.9887\n",
      "Epoch 4/5\n",
      "782/782 [==============================] - 11s 14ms/step - loss: 0.0272 - accuracy: 0.9918 - val_loss: 0.0309 - val_accuracy: 0.9906\n",
      "Epoch 5/5\n",
      "782/782 [==============================] - 11s 14ms/step - loss: 0.0203 - accuracy: 0.9933 - val_loss: 0.0578 - val_accuracy: 0.9840\n"
     ]
    }
   ],
   "source": [
    "#compiling the model\n",
    "\n",
    "model.compile(optimizer='rmsprop',\n",
    "             loss='categorical_crossentropy',\n",
    "             metrics=['accuracy'])\n",
    "\n",
    "history = model.fit(train_images2, train_labels2, epochs=5, batch_size=64,\n",
    "             validation_data=(val_images, val_labels))"
   ]
  },
  {
   "cell_type": "code",
   "execution_count": 5,
   "id": "funded-fever",
   "metadata": {},
   "outputs": [
    {
     "data": {
      "text/plain": [
       "dict_keys(['loss', 'accuracy', 'val_loss', 'val_accuracy'])"
      ]
     },
     "execution_count": 5,
     "metadata": {},
     "output_type": "execute_result"
    }
   ],
   "source": [
    "history.history.keys()"
   ]
  },
  {
   "cell_type": "code",
   "execution_count": 6,
   "id": "brave-selection",
   "metadata": {},
   "outputs": [
    {
     "data": {
      "image/png": "[encoded data removed]",
      "text/plain": [
       "<Figure size 432x288 with 1 Axes>"
      ]
     },
     "metadata": {
      "needs_background": "light"
     },
     "output_type": "display_data"
    }
   ],
   "source": [
    "#plotting the training and validation loss\n",
    "import matplotlib.pyplot as plt\n",
    "\n",
    "train_loss = history.history['loss']\n",
    "val_loss = history.history['val_loss']\n",
    "\n",
    "epochs = range(1, len(history.history['loss']) + 1)\n",
    "\n",
    "plt.plot(epochs, train_loss, 'bo', label='Training loss')\n",
    "plt.plot(epochs, val_loss, 'b', label='Validation loss')\n",
    "plt.title('Training and Validation Losses')\n",
    "plt.xlabel('Epochs')\n",
    "plt.ylabel('Loss')\n",
    "plt.legend()\n",
    "\n",
    "plt.show()"
   ]
  },
  {
   "cell_type": "code",
   "execution_count": 7,
   "id": "demanding-azerbaijan",
   "metadata": {},
   "outputs": [
    {
     "data": {
      "image/png": "[encoded data removed]",
      "text/plain": [
       "<Figure size 432x288 with 1 Axes>"
      ]
     },
     "metadata": {
      "needs_background": "light"
     },
     "output_type": "display_data"
    }
   ],
   "source": [
    "#plotting the training and validation accuracy\n",
    "\n",
    "train_acc = history.history['accuracy']\n",
    "val_acc = history.history['val_accuracy']\n",
    "\n",
    "epochs = range(1, len(history.history['accuracy']) + 1)\n",
    "\n",
    "plt.plot(epochs, train_acc, 'bo', label='Training Accuracy')\n",
    "plt.plot(epochs, val_acc, 'b', label='Validation Accuracy')\n",
    "plt.title('Training and Validation Accuracy')\n",
    "plt.xlabel('Epochs')\n",
    "plt.ylabel('Accuracy')\n",
    "plt.legend()\n",
    "\n",
    "plt.show()"
   ]
  },
  {
   "cell_type": "code",
   "execution_count": 8,
   "id": "broke-summit",
   "metadata": {},
   "outputs": [
    {
     "name": "stdout",
     "output_type": "stream",
     "text": [
      "Epoch 1/3\n",
      "938/938 [==============================] - 12s 12ms/step - loss: 0.0219 - accuracy: 0.9930\n",
      "Epoch 2/3\n",
      "938/938 [==============================] - 12s 12ms/step - loss: 0.0156 - accuracy: 0.9955\n",
      "Epoch 3/3\n",
      "938/938 [==============================] - 12s 12ms/step - loss: 0.0114 - accuracy: 0.9962\n",
      "313/313 [==============================] - 1s 4ms/step - loss: 0.0299 - accuracy: 0.9914\n"
     ]
    }
   ],
   "source": [
    "#retraining and evaluating the model\n",
    "model.compile(optimizer='rmsprop',\n",
    "             loss='categorical_crossentropy',\n",
    "             metrics=['accuracy'])\n",
    "\n",
    "history = model.fit(train_images, train_labels, epochs=3, batch_size=64)\n",
    "results = model.evaluate(test_images, test_labels)"
   ]
  },
  {
   "cell_type": "code",
   "execution_count": 9,
   "id": "completed-foster",
   "metadata": {},
   "outputs": [
    {
     "data": {
      "text/plain": [
       "[0.029850488528609276, 0.9914000034332275]"
      ]
     },
     "execution_count": 9,
     "metadata": {},
     "output_type": "execute_result"
    }
   ],
   "source": [
    "#displaying results\n",
    "results"
   ]
  },
  {
   "cell_type": "code",
   "execution_count": 10,
   "id": "destroyed-faculty",
   "metadata": {},
   "outputs": [
    {
     "data": {
      "text/plain": [
       "{'loss': [0.021560736000537872, 0.01651066169142723, 0.013402190990746021],\n",
       " 'accuracy': [0.9933333396911621, 0.9951333403587341, 0.9956666827201843]}"
      ]
     },
     "execution_count": 10,
     "metadata": {},
     "output_type": "execute_result"
    }
   ],
   "source": [
    "history.history"
   ]
  },
  {
   "cell_type": "code",
   "execution_count": 11,
   "id": "compact-darkness",
   "metadata": {},
   "outputs": [],
   "source": [
    "model.save('results/6_1_model.h5')"
   ]
  },
  {
   "cell_type": "code",
   "execution_count": 12,
   "id": "encouraging-trial",
   "metadata": {},
   "outputs": [],
   "source": [
    "prediction_results = model.predict(test_images)\n"
   ]
  },
  {
   "cell_type": "code",
   "execution_count": 13,
   "id": "continuous-batch",
   "metadata": {},
   "outputs": [],
   "source": [
    "#writing metrics to file\n",
    "with open('results/6_1_metrics.txt', 'w') as f:\n",
    "    f.write('Training Loss: {}'.format(str(history.history['loss'])))\n",
    "    f.write('\\nTraining Accuracy: {}'.format(str(history.history['accuracy'])))\n",
    "    f.write('\\nTest Loss: {}'.format(results[0]))\n",
    "    f.write('\\nTest Accuracy: {}'.format(results[1]))"
   ]
  },
  {
   "cell_type": "code",
   "execution_count": 14,
   "id": "living-cable",
   "metadata": {},
   "outputs": [],
   "source": [
    "import pandas as pd\n",
    "\n",
    "predictions = pd.DataFrame(prediction_results, columns=['0','1','2','3','4','5','6','7','8','9'])\n",
    "predictions.to_csv('results/6_1_predictions.csv', index=False)"
   ]
  },
  {
   "cell_type": "code",
   "execution_count": null,
   "id": "opposed-casino",
   "metadata": {},
   "outputs": [],
   "source": []
  }
 ],
 "metadata": {
  "kernelspec": {
   "display_name": "Python 3",
   "language": "python",
   "name": "python3"
  },
  "language_info": {
   "codemirror_mode": {
    "name": "ipython",
    "version": 3
   },
   "file_extension": ".py",
   "mimetype": "text/x-python",
   "name": "python",
   "nbconvert_exporter": "python",
   "pygments_lexer": "ipython3",
   "version": "3.8.8"
  }
 },
 "nbformat": 4,
 "nbformat_minor": 5
}
